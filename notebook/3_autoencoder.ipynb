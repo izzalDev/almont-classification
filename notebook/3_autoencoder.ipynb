{
 "cells": [
  {
   "cell_type": "code",
   "execution_count": null,
   "metadata": {},
   "outputs": [],
   "source": [
    "# DATA PREPARATION\n",
    "\n",
    "from torchvision.datasets import ImageFolder\n",
    "from torchvision import transforms\n",
    "import torch\n",
    "\n",
    "dataset = ImageFolder('data/raw')\n",
    "\n",
    "transform = transforms.Compose([\n",
    "    transforms.Resize((32, 32)),\n",
    "    transforms.ToTensor(),\n",
    "    transforms.Lambda(lambda x: torch.flatten(x)),\n",
    "])\n",
    "\n",
    "dataset.transform = transform\n",
    "dataset.classes"
   ]
  },
  {
   "cell_type": "code",
   "execution_count": null,
   "metadata": {},
   "outputs": [],
   "source": [
    "# DATA SPLIT\n",
    "\n",
    "from sklearn.model_selection import train_test_split\n",
    "\n",
    "ds_idx = list(range(len(dataset)))\n",
    "train_idx, test_idx = train_test_split(ds_idx, test_size=0.15, shuffle=True, stratify=dataset.targets, random_state=42)\n",
    "train_idx, valid_idx = train_test_split(train_idx, test_size=0.15/0.85, shuffle=True, stratify=[dataset.targets[idx] for idx in train_idx], random_state=42)\n",
    "\n",
    "len(train_idx), len(valid_idx), len(test_idx)"
   ]
  },
  {
   "cell_type": "code",
   "execution_count": null,
   "metadata": {},
   "outputs": [],
   "source": [
    "# GENERATE DATASETS\n",
    "\n",
    "train_ds = torch.utils.data.Subset(dataset, train_idx)\n",
    "valid_ds = torch.utils.data.Subset(dataset, valid_idx)\n",
    "test_ds = torch.utils.data.Subset(dataset, test_idx)"
   ]
  },
  {
   "cell_type": "code",
   "execution_count": null,
   "metadata": {},
   "outputs": [],
   "source": [
    "# DATA LOADERS\n",
    "\n",
    "batch_size = 32\n",
    "train_dl = torch.utils.data.DataLoader(train_ds, batch_size=batch_size, shuffle=True)\n",
    "valid_dl = torch.utils.data.DataLoader(valid_ds, batch_size=batch_size, shuffle=False)\n",
    "test_dl = torch.utils.data.DataLoader(test_ds, batch_size=batch_size, shuffle=False)"
   ]
  },
  {
   "cell_type": "code",
   "execution_count": null,
   "metadata": {},
   "outputs": [],
   "source": [
    "from torch import nn\n",
    "\n",
    "encoder = nn.Sequential(\n",
    "    nn.Conv2d(3, 4, 3, 2, 1), # 64 -> 32\n",
    "    nn.ReLU(),\n",
    "    nn.Conv2d(4, 8, 3, 2, 1), # 32 -> 16\n",
    "    nn.ReLU(),\n",
    "    nn.Conv2d(8, 16, 3, 2, 1), # 16 -> 8\n",
    "    nn.ReLU(),\n",
    "    nn.Conv2d(16, 32, 3, 2, 1), # 8 -> 4\n",
    "    nn.ReLU(),\n",
    ")\n",
    "\n",
    "decoder = nn.Sequential(\n",
    "    nn.ConvTranspose2d(32, 16, 3, 2, 1), # 4 -> 8\n",
    "    nn.ReLU(),\n",
    "    nn.ConvTranspose2d(16, 8, 3, 2, 1), # 8 -> 16\n",
    "    nn.ReLU(),\n",
    "    nn.ConvTranspose2d(8, 4, 3, 2, 1), # 16 -> 32\n",
    "    nn.ReLU(),\n",
    "    nn.ConvTranspose2d(4, 3, 3, 2, 1), # 32 -> 64\n",
    "    nn.Sigmoid(),\n",
    ")"
   ]
  },
  {
   "cell_type": "code",
   "execution_count": null,
   "metadata": {},
   "outputs": [],
   "source": [
    "import lightning as L\n",
    "import torch\n",
    "\n",
    "class AutoEncoder(L.LightningModule):\n",
    "    def __init__(self, encoder, decoder):\n",
    "        super().__init__()\n",
    "        self.encoder = encoder\n",
    "        self.decoder = decoder\n",
    "        self.criterion = nn.MSELoss()\n",
    "\n",
    "    def training_step(self, batch, batch_idx):\n",
    "        x, _ = batch\n",
    "        x_hat = self(x)\n",
    "        loss = self.criterion(x_hat, x)\n",
    "        self.log('train_loss', loss)\n",
    "        return loss\n",
    "\n",
    "    def validation_step(self, batch, batch_idx):\n",
    "        x, _ = batch\n",
    "        x_hat = self(x)\n",
    "        loss = self.criterion(x_hat, x)\n",
    "        self.log('val_loss', loss)\n",
    "        \n",
    "    def configure_optimizers(self):\n",
    "        optimizer = torch.optim.Adam(self.parameters(), lr=1e-3)\n",
    "        return optimizer"
   ]
  }
 ],
 "metadata": {
  "language_info": {
   "name": "python"
  }
 },
 "nbformat": 4,
 "nbformat_minor": 2
}

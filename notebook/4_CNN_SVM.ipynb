{
 "cells": [
  {
   "cell_type": "code",
   "execution_count": 27,
   "metadata": {},
   "outputs": [],
   "source": [
    "import torch\n",
    "import torch.nn as nn\n",
    "import torch.nn.functional as F\n",
    "import pytorch_lightning as pl\n",
    "from torch.utils.data import DataLoader, random_split\n",
    "from torchvision import datasets, transforms\n",
    "from pytorch_lightning.callbacks import ModelCheckpoint, EarlyStopping\n",
    "from sklearn.model_selection import train_test_split\n",
    "from sklearn.svm import SVC\n",
    "from sklearn.model_selection import RandomizedSearchCV\n",
    "import numpy as np\n",
    "\n",
    "    \n",
    "torch.manual_seed(42)    \n",
    "features = nn.Sequential(\n",
    "    nn.Conv2d(in_channels=3, out_channels=16, kernel_size=3, stride=1, padding=1),\n",
    "    nn.ReLU(),\n",
    "    nn.MaxPool2d(kernel_size=2, stride=2, padding=0),\n",
    "    \n",
    "    nn.Conv2d(in_channels=16, out_channels=32, kernel_size=3, stride=1, padding=1),\n",
    "    nn.ReLU(),\n",
    "    nn.MaxPool2d(kernel_size=2, stride=2, padding=0),\n",
    "    \n",
    "    nn.Conv2d(in_channels=32, out_channels=64, kernel_size=3, stride=1, padding=1),\n",
    "    nn.ReLU(),\n",
    "    nn.MaxPool2d(kernel_size=2, stride=2, padding=0),\n",
    "    \n",
    "    nn.Conv2d(in_channels=64, out_channels=128, kernel_size=3, stride=1, padding=1),\n",
    "    nn.ReLU(),\n",
    "    nn.MaxPool2d(kernel_size=2, stride=2, padding=0),\n",
    "    \n",
    "    nn.Conv2d(in_channels=128, out_channels=256, kernel_size=3, stride=1, padding=1),\n",
    "    nn.ReLU(),\n",
    "    nn.MaxPool2d(kernel_size=2, stride=2, padding=0),\n",
    "    \n",
    "    nn.Flatten(),\n",
    ")\n",
    "\n",
    "# Load dataset from folder data/raw\n",
    "dataset = datasets.ImageFolder(root='data/raw')\n",
    "\n",
    "ds_idx = list(range(len(dataset)))\n",
    "train_idx, test_idx = train_test_split(ds_idx, test_size=0.15, shuffle=True, stratify=dataset.targets, random_state=42)\n",
    "\n",
    "train_dataset = torch.utils.data.Subset(dataset, train_idx)\n",
    "test_dataset = torch.utils.data.Subset(dataset, test_idx)"
   ]
  },
  {
   "cell_type": "code",
   "execution_count": 31,
   "metadata": {},
   "outputs": [
    {
     "data": {
      "text/plain": [
       "array([[[50, 59, 66],\n",
       "        [53, 62, 69],\n",
       "        [54, 63, 70],\n",
       "        ...,\n",
       "        [49, 59, 68],\n",
       "        [49, 59, 68],\n",
       "        [50, 60, 69]],\n",
       "\n",
       "       [[50, 59, 66],\n",
       "        [52, 61, 68],\n",
       "        [54, 63, 70],\n",
       "        ...,\n",
       "        [51, 61, 70],\n",
       "        [51, 61, 70],\n",
       "        [51, 61, 70]],\n",
       "\n",
       "       [[49, 58, 65],\n",
       "        [52, 61, 68],\n",
       "        [53, 62, 69],\n",
       "        ...,\n",
       "        [51, 61, 70],\n",
       "        [50, 60, 69],\n",
       "        [50, 60, 69]],\n",
       "\n",
       "       ...,\n",
       "\n",
       "       [[54, 65, 71],\n",
       "        [56, 67, 73],\n",
       "        [59, 70, 76],\n",
       "        ...,\n",
       "        [38, 45, 53],\n",
       "        [40, 47, 55],\n",
       "        [42, 49, 57]],\n",
       "\n",
       "       [[57, 68, 74],\n",
       "        [58, 69, 75],\n",
       "        [60, 71, 77],\n",
       "        ...,\n",
       "        [39, 46, 54],\n",
       "        [40, 47, 55],\n",
       "        [41, 48, 56]],\n",
       "\n",
       "       [[59, 70, 76],\n",
       "        [60, 71, 77],\n",
       "        [62, 73, 79],\n",
       "        ...,\n",
       "        [39, 46, 54],\n",
       "        [39, 46, 54],\n",
       "        [40, 47, 55]]], dtype=uint8)"
      ]
     },
     "execution_count": 31,
     "metadata": {},
     "output_type": "execute_result"
    }
   ],
   "source": [
    "np.array(dataset[0][0])"
   ]
  },
  {
   "cell_type": "code",
   "execution_count": 112,
   "metadata": {},
   "outputs": [],
   "source": [
    "X_train = features(torch.stack([x for x, _ in train_dataset]))\n",
    "y_train = torch.tensor([y for _, y in train_dataset])\n",
    "X_test = features(torch.stack([x for x, _ in test_dataset]))\n",
    "y_test = torch.tensor([y for _, y in test_dataset])\n",
    "\n",
    "X_train = [x.detach().numpy() for x in X_train]\n",
    "X_test = [x.detach().numpy() for x in X_test]\n",
    "y_train = y_train.detach().numpy()\n",
    "y_test = y_test.detach().numpy()"
   ]
  },
  {
   "cell_type": "code",
   "execution_count": 113,
   "metadata": {},
   "outputs": [],
   "source": [
    "svc = SVC()\n",
    "\n",
    "params = {\n",
    "    'C': np.logspace(-3, 3, 7),\n",
    "    'gamma': np.logspace(-3, 3, 7),\n",
    "}\n",
    "\n",
    "rscv = RandomizedSearchCV(\n",
    "    svc,\n",
    "    params,\n",
    "    cv=10,\n",
    "    n_jobs=-1,\n",
    "    verbose=3,\n",
    "    random_state=42,\n",
    "    scoring='accuracy',\n",
    ")"
   ]
  },
  {
   "cell_type": "code",
   "execution_count": 114,
   "metadata": {},
   "outputs": [
    {
     "name": "stdout",
     "output_type": "stream",
     "text": [
      "Fitting 10 folds for each of 10 candidates, totalling 100 fits\n",
      "[CV 1/10] END .............C=0.01, gamma=1000.0;, score=0.301 total time=  13.1s\n",
      "[CV 2/10] END .............C=0.01, gamma=1000.0;, score=0.293 total time=  13.2s\n",
      "[CV 3/10] END .............C=0.01, gamma=1000.0;, score=0.295 total time=  13.2s\n",
      "[CV 5/10] END .............C=0.01, gamma=1000.0;, score=0.295 total time=  13.1s\n",
      "[CV 4/10] END .............C=0.01, gamma=1000.0;, score=0.295 total time=  13.2s\n",
      "[CV 6/10] END .............C=0.01, gamma=1000.0;, score=0.295 total time=  13.1s\n",
      "[CV 8/10] END .............C=0.01, gamma=1000.0;, score=0.303 total time=  12.9s\n",
      "[CV 7/10] END .............C=0.01, gamma=1000.0;, score=0.303 total time=  13.1s\n",
      "[CV 1/10] END ..............C=1000.0, gamma=1.0;, score=0.932 total time=   3.4s\n",
      "[CV 2/10] END ..............C=1000.0, gamma=1.0;, score=0.955 total time=   3.3s\n",
      "[CV 3/10] END ..............C=1000.0, gamma=1.0;, score=0.970 total time=   3.4s\n",
      "[CV 4/10] END ..............C=1000.0, gamma=1.0;, score=0.992 total time=   3.3s\n",
      "[CV 5/10] END ..............C=1000.0, gamma=1.0;, score=0.977 total time=   3.3s\n",
      "[CV 6/10] END ..............C=1000.0, gamma=1.0;, score=0.977 total time=   3.3s\n",
      "[CV 7/10] END ..............C=1000.0, gamma=1.0;, score=0.939 total time=   3.2s\n",
      "[CV 8/10] END ..............C=1000.0, gamma=1.0;, score=0.947 total time=   3.3s\n",
      "[CV 9/10] END ..............C=1000.0, gamma=1.0;, score=0.947 total time=   3.3s\n",
      "[CV 10/10] END .............C=1000.0, gamma=1.0;, score=0.970 total time=   3.4s\n",
      "[CV 1/10] END ............C=1000.0, gamma=100.0;, score=0.955 total time=   4.0s\n",
      "[CV 2/10] END ............C=1000.0, gamma=100.0;, score=0.970 total time=   4.2s\n",
      "[CV 3/10] END ............C=1000.0, gamma=100.0;, score=0.962 total time=   4.3s\n",
      "[CV 4/10] END ............C=1000.0, gamma=100.0;, score=0.977 total time=   4.4s\n",
      "[CV 5/10] END ............C=1000.0, gamma=100.0;, score=0.970 total time=   4.1s\n",
      "[CV 9/10] END .............C=0.01, gamma=1000.0;, score=0.303 total time=  12.0s\n",
      "[CV 6/10] END ............C=1000.0, gamma=100.0;, score=0.977 total time=   4.0s\n",
      "[CV 10/10] END ............C=0.01, gamma=1000.0;, score=0.303 total time=  12.1s\n",
      "[CV 7/10] END ............C=1000.0, gamma=100.0;, score=0.947 total time=   4.1s\n",
      "[CV 8/10] END ............C=1000.0, gamma=100.0;, score=0.962 total time=   4.0s\n",
      "[CV 9/10] END ............C=1000.0, gamma=100.0;, score=0.932 total time=   4.1s\n",
      "[CV 10/10] END ...........C=1000.0, gamma=100.0;, score=0.947 total time=   4.2s\n",
      "[CV 2/10] END ..............C=1000.0, gamma=0.1;, score=0.940 total time=   5.1s\n",
      "[CV 1/10] END ..............C=1000.0, gamma=0.1;, score=0.917 total time=   5.2s\n",
      "[CV 3/10] END ..............C=1000.0, gamma=0.1;, score=0.947 total time=   5.4s\n",
      "[CV 4/10] END ..............C=1000.0, gamma=0.1;, score=0.939 total time=   5.3s\n",
      "[CV 6/10] END ..............C=1000.0, gamma=0.1;, score=0.939 total time=   5.0s\n",
      "[CV 5/10] END ..............C=1000.0, gamma=0.1;, score=0.939 total time=   5.3s\n",
      "[CV 7/10] END ..............C=1000.0, gamma=0.1;, score=0.939 total time=   5.1s\n",
      "[CV 8/10] END ..............C=1000.0, gamma=0.1;, score=0.909 total time=   5.0s\n",
      "[CV 9/10] END ..............C=1000.0, gamma=0.1;, score=0.886 total time=   5.0s\n",
      "[CV 10/10] END .............C=1000.0, gamma=0.1;, score=0.894 total time=   5.1s\n",
      "[CV 1/10] END .................C=0.1, gamma=1.0;, score=0.301 total time=  12.3s\n",
      "[CV 2/10] END .................C=0.1, gamma=1.0;, score=0.293 total time=  12.1s\n",
      "[CV 3/10] END .................C=0.1, gamma=1.0;, score=0.295 total time=  12.5s\n",
      "[CV 4/10] END .................C=0.1, gamma=1.0;, score=0.295 total time=  12.4s\n",
      "[CV 5/10] END .................C=0.1, gamma=1.0;, score=0.295 total time=  12.5s\n",
      "[CV 6/10] END .................C=0.1, gamma=1.0;, score=0.295 total time=  12.5s\n",
      "[CV 7/10] END .................C=0.1, gamma=1.0;, score=0.303 total time=  12.3s\n",
      "[CV 8/10] END .................C=0.1, gamma=1.0;, score=0.303 total time=  12.7s\n",
      "[CV 10/10] END ................C=0.1, gamma=1.0;, score=0.303 total time=  12.7s\n",
      "[CV 9/10] END .................C=0.1, gamma=1.0;, score=0.303 total time=  12.9s\n",
      "[CV 1/10] END ..............C=1.0, gamma=1000.0;, score=0.880 total time=  13.4s\n",
      "[CV 2/10] END ..............C=1.0, gamma=1000.0;, score=0.887 total time=  13.4s\n",
      "[CV 3/10] END ..............C=1.0, gamma=1000.0;, score=0.924 total time=  13.8s\n",
      "[CV 4/10] END ..............C=1.0, gamma=1000.0;, score=0.879 total time=  13.7s\n",
      "[CV 5/10] END ..............C=1.0, gamma=1000.0;, score=0.886 total time=  13.6s\n",
      "[CV 6/10] END ..............C=1.0, gamma=1000.0;, score=0.909 total time=  13.2s\n",
      "[CV 1/10] END ...............C=1.0, gamma=100.0;, score=0.932 total time=   5.7s\n",
      "[CV 2/10] END ...............C=1.0, gamma=100.0;, score=0.932 total time=   5.7s\n",
      "[CV 3/10] END ...............C=1.0, gamma=100.0;, score=0.939 total time=   6.1s\n",
      "[CV 4/10] END ...............C=1.0, gamma=100.0;, score=0.924 total time=   6.0s\n",
      "[CV 8/10] END ..............C=1.0, gamma=1000.0;, score=0.841 total time=  13.2s\n",
      "[CV 7/10] END ..............C=1.0, gamma=1000.0;, score=0.894 total time=  13.5s\n",
      "[CV 9/10] END ..............C=1.0, gamma=1000.0;, score=0.856 total time=  13.2s\n",
      "[CV 10/10] END .............C=1.0, gamma=1000.0;, score=0.841 total time=  13.3s\n",
      "[CV 6/10] END ...............C=1.0, gamma=100.0;, score=0.924 total time=   6.1s\n",
      "[CV 5/10] END ...............C=1.0, gamma=100.0;, score=0.924 total time=   6.3s\n",
      "[CV 7/10] END ...............C=1.0, gamma=100.0;, score=0.939 total time=   6.2s\n",
      "[CV 8/10] END ...............C=1.0, gamma=100.0;, score=0.909 total time=   6.1s\n",
      "[CV 9/10] END ...............C=1.0, gamma=100.0;, score=0.902 total time=   6.0s\n",
      "[CV 10/10] END ..............C=1.0, gamma=100.0;, score=0.871 total time=   6.1s\n",
      "[CV 1/10] END ................C=1.0, gamma=10.0;, score=0.767 total time=   9.5s\n",
      "[CV 2/10] END ................C=1.0, gamma=10.0;, score=0.789 total time=   9.4s\n",
      "[CV 3/10] END ................C=1.0, gamma=10.0;, score=0.803 total time=   9.1s\n",
      "[CV 4/10] END ................C=1.0, gamma=10.0;, score=0.780 total time=   9.3s\n",
      "[CV 5/10] END ................C=1.0, gamma=10.0;, score=0.811 total time=   9.3s\n",
      "[CV 6/10] END ................C=1.0, gamma=10.0;, score=0.818 total time=   9.5s\n",
      "[CV 7/10] END ................C=1.0, gamma=10.0;, score=0.841 total time=   9.3s\n",
      "[CV 8/10] END ................C=1.0, gamma=10.0;, score=0.758 total time=   9.2s\n",
      "[CV 9/10] END ................C=1.0, gamma=10.0;, score=0.758 total time=  10.0s\n",
      "[CV 10/10] END ...............C=1.0, gamma=10.0;, score=0.750 total time=   9.7s\n",
      "[CV 1/10] END ................C=10.0, gamma=1.0;, score=0.767 total time=   9.5s\n",
      "[CV 2/10] END ................C=10.0, gamma=1.0;, score=0.812 total time=   9.7s\n",
      "[CV 3/10] END ................C=10.0, gamma=1.0;, score=0.811 total time=   9.4s\n",
      "[CV 4/10] END ................C=10.0, gamma=1.0;, score=0.780 total time=   9.7s\n",
      "[CV 6/10] END ................C=10.0, gamma=1.0;, score=0.826 total time=   9.1s\n",
      "[CV 5/10] END ................C=10.0, gamma=1.0;, score=0.811 total time=   9.7s\n",
      "[CV 8/10] END ................C=10.0, gamma=1.0;, score=0.750 total time=   9.4s\n",
      "[CV 7/10] END ................C=10.0, gamma=1.0;, score=0.826 total time=   9.7s\n",
      "[CV 9/10] END ................C=10.0, gamma=1.0;, score=0.758 total time=   9.3s\n",
      "[CV 10/10] END ...............C=10.0, gamma=1.0;, score=0.750 total time=   9.3s\n",
      "[CV 1/10] END ...............C=0.1, gamma=100.0;, score=0.767 total time=  10.2s\n",
      "[CV 2/10] END ...............C=0.1, gamma=100.0;, score=0.797 total time=  10.3s\n",
      "[CV 3/10] END ...............C=0.1, gamma=100.0;, score=0.758 total time=  10.4s\n",
      "[CV 4/10] END ...............C=0.1, gamma=100.0;, score=0.758 total time=  10.4s\n",
      "[CV 5/10] END ...............C=0.1, gamma=100.0;, score=0.803 total time=   8.8s\n",
      "[CV 6/10] END ...............C=0.1, gamma=100.0;, score=0.780 total time=   8.7s\n",
      "[CV 7/10] END ...............C=0.1, gamma=100.0;, score=0.811 total time=   8.7s\n",
      "[CV 8/10] END ...............C=0.1, gamma=100.0;, score=0.727 total time=   8.2s\n",
      "[CV 9/10] END ...............C=0.1, gamma=100.0;, score=0.758 total time=   7.2s\n",
      "[CV 10/10] END ..............C=0.1, gamma=100.0;, score=0.758 total time=   6.5s\n"
     ]
    },
    {
     "data": {
      "text/html": [
       "<style>#sk-container-id-4 {color: black;}#sk-container-id-4 pre{padding: 0;}#sk-container-id-4 div.sk-toggleable {background-color: white;}#sk-container-id-4 label.sk-toggleable__label {cursor: pointer;display: block;width: 100%;margin-bottom: 0;padding: 0.3em;box-sizing: border-box;text-align: center;}#sk-container-id-4 label.sk-toggleable__label-arrow:before {content: \"▸\";float: left;margin-right: 0.25em;color: #696969;}#sk-container-id-4 label.sk-toggleable__label-arrow:hover:before {color: black;}#sk-container-id-4 div.sk-estimator:hover label.sk-toggleable__label-arrow:before {color: black;}#sk-container-id-4 div.sk-toggleable__content {max-height: 0;max-width: 0;overflow: hidden;text-align: left;background-color: #f0f8ff;}#sk-container-id-4 div.sk-toggleable__content pre {margin: 0.2em;color: black;border-radius: 0.25em;background-color: #f0f8ff;}#sk-container-id-4 input.sk-toggleable__control:checked~div.sk-toggleable__content {max-height: 200px;max-width: 100%;overflow: auto;}#sk-container-id-4 input.sk-toggleable__control:checked~label.sk-toggleable__label-arrow:before {content: \"▾\";}#sk-container-id-4 div.sk-estimator input.sk-toggleable__control:checked~label.sk-toggleable__label {background-color: #d4ebff;}#sk-container-id-4 div.sk-label input.sk-toggleable__control:checked~label.sk-toggleable__label {background-color: #d4ebff;}#sk-container-id-4 input.sk-hidden--visually {border: 0;clip: rect(1px 1px 1px 1px);clip: rect(1px, 1px, 1px, 1px);height: 1px;margin: -1px;overflow: hidden;padding: 0;position: absolute;width: 1px;}#sk-container-id-4 div.sk-estimator {font-family: monospace;background-color: #f0f8ff;border: 1px dotted black;border-radius: 0.25em;box-sizing: border-box;margin-bottom: 0.5em;}#sk-container-id-4 div.sk-estimator:hover {background-color: #d4ebff;}#sk-container-id-4 div.sk-parallel-item::after {content: \"\";width: 100%;border-bottom: 1px solid gray;flex-grow: 1;}#sk-container-id-4 div.sk-label:hover label.sk-toggleable__label {background-color: #d4ebff;}#sk-container-id-4 div.sk-serial::before {content: \"\";position: absolute;border-left: 1px solid gray;box-sizing: border-box;top: 0;bottom: 0;left: 50%;z-index: 0;}#sk-container-id-4 div.sk-serial {display: flex;flex-direction: column;align-items: center;background-color: white;padding-right: 0.2em;padding-left: 0.2em;position: relative;}#sk-container-id-4 div.sk-item {position: relative;z-index: 1;}#sk-container-id-4 div.sk-parallel {display: flex;align-items: stretch;justify-content: center;background-color: white;position: relative;}#sk-container-id-4 div.sk-item::before, #sk-container-id-4 div.sk-parallel-item::before {content: \"\";position: absolute;border-left: 1px solid gray;box-sizing: border-box;top: 0;bottom: 0;left: 50%;z-index: -1;}#sk-container-id-4 div.sk-parallel-item {display: flex;flex-direction: column;z-index: 1;position: relative;background-color: white;}#sk-container-id-4 div.sk-parallel-item:first-child::after {align-self: flex-end;width: 50%;}#sk-container-id-4 div.sk-parallel-item:last-child::after {align-self: flex-start;width: 50%;}#sk-container-id-4 div.sk-parallel-item:only-child::after {width: 0;}#sk-container-id-4 div.sk-dashed-wrapped {border: 1px dashed gray;margin: 0 0.4em 0.5em 0.4em;box-sizing: border-box;padding-bottom: 0.4em;background-color: white;}#sk-container-id-4 div.sk-label label {font-family: monospace;font-weight: bold;display: inline-block;line-height: 1.2em;}#sk-container-id-4 div.sk-label-container {text-align: center;}#sk-container-id-4 div.sk-container {/* jupyter's `normalize.less` sets `[hidden] { display: none; }` but bootstrap.min.css set `[hidden] { display: none !important; }` so we also need the `!important` here to be able to override the default hidden behavior on the sphinx rendered scikit-learn.org. See: https://github.com/scikit-learn/scikit-learn/issues/21755 */display: inline-block !important;position: relative;}#sk-container-id-4 div.sk-text-repr-fallback {display: none;}</style><div id=\"sk-container-id-4\" class=\"sk-top-container\"><div class=\"sk-text-repr-fallback\"><pre>RandomizedSearchCV(cv=10, estimator=SVC(), n_jobs=-1,\n",
       "                   param_distributions={&#x27;C&#x27;: array([1.e-03, 1.e-02, 1.e-01, 1.e+00, 1.e+01, 1.e+02, 1.e+03]),\n",
       "                                        &#x27;gamma&#x27;: array([1.e-03, 1.e-02, 1.e-01, 1.e+00, 1.e+01, 1.e+02, 1.e+03])},\n",
       "                   random_state=42, scoring=&#x27;accuracy&#x27;, verbose=3)</pre><b>In a Jupyter environment, please rerun this cell to show the HTML representation or trust the notebook. <br />On GitHub, the HTML representation is unable to render, please try loading this page with nbviewer.org.</b></div><div class=\"sk-container\" hidden><div class=\"sk-item sk-dashed-wrapped\"><div class=\"sk-label-container\"><div class=\"sk-label sk-toggleable\"><input class=\"sk-toggleable__control sk-hidden--visually\" id=\"sk-estimator-id-10\" type=\"checkbox\" ><label for=\"sk-estimator-id-10\" class=\"sk-toggleable__label sk-toggleable__label-arrow\">RandomizedSearchCV</label><div class=\"sk-toggleable__content\"><pre>RandomizedSearchCV(cv=10, estimator=SVC(), n_jobs=-1,\n",
       "                   param_distributions={&#x27;C&#x27;: array([1.e-03, 1.e-02, 1.e-01, 1.e+00, 1.e+01, 1.e+02, 1.e+03]),\n",
       "                                        &#x27;gamma&#x27;: array([1.e-03, 1.e-02, 1.e-01, 1.e+00, 1.e+01, 1.e+02, 1.e+03])},\n",
       "                   random_state=42, scoring=&#x27;accuracy&#x27;, verbose=3)</pre></div></div></div><div class=\"sk-parallel\"><div class=\"sk-parallel-item\"><div class=\"sk-item\"><div class=\"sk-label-container\"><div class=\"sk-label sk-toggleable\"><input class=\"sk-toggleable__control sk-hidden--visually\" id=\"sk-estimator-id-11\" type=\"checkbox\" ><label for=\"sk-estimator-id-11\" class=\"sk-toggleable__label sk-toggleable__label-arrow\">estimator: SVC</label><div class=\"sk-toggleable__content\"><pre>SVC()</pre></div></div></div><div class=\"sk-serial\"><div class=\"sk-item\"><div class=\"sk-estimator sk-toggleable\"><input class=\"sk-toggleable__control sk-hidden--visually\" id=\"sk-estimator-id-12\" type=\"checkbox\" ><label for=\"sk-estimator-id-12\" class=\"sk-toggleable__label sk-toggleable__label-arrow\">SVC</label><div class=\"sk-toggleable__content\"><pre>SVC()</pre></div></div></div></div></div></div></div></div></div></div>"
      ],
      "text/plain": [
       "RandomizedSearchCV(cv=10, estimator=SVC(), n_jobs=-1,\n",
       "                   param_distributions={'C': array([1.e-03, 1.e-02, 1.e-01, 1.e+00, 1.e+01, 1.e+02, 1.e+03]),\n",
       "                                        'gamma': array([1.e-03, 1.e-02, 1.e-01, 1.e+00, 1.e+01, 1.e+02, 1.e+03])},\n",
       "                   random_state=42, scoring='accuracy', verbose=3)"
      ]
     },
     "execution_count": 114,
     "metadata": {},
     "output_type": "execute_result"
    }
   ],
   "source": [
    "rscv.fit(X_train, y_train)      "
   ]
  },
  {
   "cell_type": "code",
   "execution_count": 115,
   "metadata": {},
   "outputs": [
    {
     "data": {
      "text/plain": [
       "0.960691501480975"
      ]
     },
     "execution_count": 115,
     "metadata": {},
     "output_type": "execute_result"
    }
   ],
   "source": [
    "rscv.best_score_"
   ]
  },
  {
   "cell_type": "code",
   "execution_count": null,
   "metadata": {},
   "outputs": [],
   "source": [
    "0.960691501480975"
   ]
  },
  {
   "cell_type": "code",
   "execution_count": 4,
   "metadata": {},
   "outputs": [],
   "source": [
    "import onnx\n",
    "torch.onnx.export(\n",
    "    features,\n",
    "    torch.randn(3, 3, 128, 128),\n",
    "    'prep.onnx',\n",
    "    verbose=False,\n",
    "    input_names=['input'],\n",
    "    output_names=['output'],\n",
    "    opset_version=11\n",
    ")\n",
    "model = onnx.load('prep.onnx')\n",
    "model.graph.input[0].type.tensor_type.shape.dim[0].dim_param = '?'\n",
    "model.graph.output[0].type.tensor_type.shape.dim[0].dim_param = '?'\n",
    "onnx.save(model, 'dynamic_model.onnx')"
   ]
  },
  {
   "cell_type": "code",
   "execution_count": 116,
   "metadata": {},
   "outputs": [],
   "source": [
    "import onnxruntime as rt\n",
    "\n",
    "session = rt.InferenceSession('dynamic_model.onnx')"
   ]
  },
  {
   "cell_type": "code",
   "execution_count": null,
   "metadata": {},
   "outputs": [
    {
     "data": {
      "text/plain": [
       "[array([[0.01531086, 0.        , 0.        , ..., 0.04222197, 0.03978221,\n",
       "         0.04232738],\n",
       "        [0.01507288, 0.        , 0.        , ..., 0.04179475, 0.04133177,\n",
       "         0.04220761],\n",
       "        [0.01482842, 0.        , 0.        , ..., 0.04063625, 0.04072065,\n",
       "         0.04342537]], dtype=float32)]"
      ]
     },
     "execution_count": 73,
     "metadata": {},
     "output_type": "execute_result"
    }
   ],
   "source": [
    "x = np.random.random((3, 128, 128, 3))\n",
    "x = x.astype(np.float32)\n",
    "res = session.run(['output'], {'input': x})\n",
    "res"
   ]
  },
  {
   "cell_type": "code",
   "execution_count": null,
   "metadata": {},
   "outputs": [
    {
     "data": {
      "text/plain": [
       "(3, 4096)"
      ]
     },
     "execution_count": 76,
     "metadata": {},
     "output_type": "execute_result"
    }
   ],
   "source": [
    "res[0].shape"
   ]
  },
  {
   "cell_type": "code",
   "execution_count": 123,
   "metadata": {},
   "outputs": [],
   "source": [
    "import onnx_tool\n",
    "\n",
    "m = onnx_tool.Model('dynamic_model.onnx')\n",
    "m.graph.shape_infer({'input': np.zeros((1, 128, 128, 3))})"
   ]
  },
  {
   "cell_type": "code",
   "execution_count": 128,
   "metadata": {},
   "outputs": [],
   "source": [
    "from skl2onnx import to_onnx\n",
    "\n",
    "onnx_model = to_onnx(rscv.best_estimator_, X_train[0])"
   ]
  },
  {
   "cell_type": "code",
   "execution_count": 129,
   "metadata": {},
   "outputs": [],
   "source": [
    "with open(\"svm.onnx\", \"wb\") as f:\n",
    "    f.write(onnx_model.SerializeToString())"
   ]
  }
 ],
 "metadata": {
  "kernelspec": {
   "display_name": "vision",
   "language": "python",
   "name": "python3"
  },
  "language_info": {
   "codemirror_mode": {
    "name": "ipython",
    "version": 3
   },
   "file_extension": ".py",
   "mimetype": "text/x-python",
   "name": "python",
   "nbconvert_exporter": "python",
   "pygments_lexer": "ipython3",
   "version": "3.9.19"
  }
 },
 "nbformat": 4,
 "nbformat_minor": 2
}

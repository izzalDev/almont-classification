{
 "cells": [
  {
   "cell_type": "code",
   "execution_count": 25,
   "metadata": {},
   "outputs": [
    {
     "name": "stderr",
     "output_type": "stream",
     "text": [
      "GPU available: True (mps), used: True\n",
      "TPU available: False, using: 0 TPU cores\n",
      "IPU available: False, using: 0 IPUs\n",
      "HPU available: False, using: 0 HPUs\n",
      "/opt/homebrew/Caskroom/miniconda/base/envs/vision/lib/python3.9/site-packages/pytorch_lightning/callbacks/model_checkpoint.py:653: Checkpoint directory /Users/izzal/almont-classification/checkpoints exists and is not empty.\n",
      "\n",
      "  | Name    | Type       | Params\n",
      "---------------------------------------\n",
      "0 | encoder | Sequential | 1.6 M \n",
      "1 | decoder | Sequential | 697 K \n",
      "---------------------------------------\n",
      "2.3 M     Trainable params\n",
      "0         Non-trainable params\n",
      "2.3 M     Total params\n",
      "9.063     Total estimated model params size (MB)\n"
     ]
    },
    {
     "data": {
      "application/vnd.jupyter.widget-view+json": {
       "model_id": "35720ea2ef934f2fbc73fdaff5b3e2a0",
       "version_major": 2,
       "version_minor": 0
      },
      "text/plain": [
       "Sanity Checking: |          | 0/? [00:00<?, ?it/s]"
      ]
     },
     "metadata": {},
     "output_type": "display_data"
    },
    {
     "name": "stderr",
     "output_type": "stream",
     "text": [
      "/opt/homebrew/Caskroom/miniconda/base/envs/vision/lib/python3.9/site-packages/pytorch_lightning/trainer/connectors/data_connector.py:441: The 'val_dataloader' does not have many workers which may be a bottleneck. Consider increasing the value of the `num_workers` argument` to `num_workers=7` in the `DataLoader` to improve performance.\n",
      "/opt/homebrew/Caskroom/miniconda/base/envs/vision/lib/python3.9/site-packages/pytorch_lightning/trainer/connectors/data_connector.py:441: The 'train_dataloader' does not have many workers which may be a bottleneck. Consider increasing the value of the `num_workers` argument` to `num_workers=7` in the `DataLoader` to improve performance.\n",
      "/opt/homebrew/Caskroom/miniconda/base/envs/vision/lib/python3.9/site-packages/pytorch_lightning/loops/fit_loop.py:298: The number of training batches (39) is smaller than the logging interval Trainer(log_every_n_steps=50). Set a lower value for log_every_n_steps if you want to see logs for the training epoch.\n"
     ]
    },
    {
     "data": {
      "application/vnd.jupyter.widget-view+json": {
       "model_id": "c6ce5ad8317f4582b3e32c97962b5e29",
       "version_major": 2,
       "version_minor": 0
      },
      "text/plain": [
       "Training: |          | 0/? [00:00<?, ?it/s]"
      ]
     },
     "metadata": {},
     "output_type": "display_data"
    },
    {
     "data": {
      "application/vnd.jupyter.widget-view+json": {
       "model_id": "01ba105598ea46a382f346fb29dc206a",
       "version_major": 2,
       "version_minor": 0
      },
      "text/plain": [
       "Validation: |          | 0/? [00:00<?, ?it/s]"
      ]
     },
     "metadata": {},
     "output_type": "display_data"
    },
    {
     "data": {
      "application/vnd.jupyter.widget-view+json": {
       "model_id": "dcf4990344884f71b948327e17cc05fd",
       "version_major": 2,
       "version_minor": 0
      },
      "text/plain": [
       "Validation: |          | 0/? [00:00<?, ?it/s]"
      ]
     },
     "metadata": {},
     "output_type": "display_data"
    },
    {
     "data": {
      "application/vnd.jupyter.widget-view+json": {
       "model_id": "d660c8c7b8f1459895407a5aa472e9dc",
       "version_major": 2,
       "version_minor": 0
      },
      "text/plain": [
       "Validation: |          | 0/? [00:00<?, ?it/s]"
      ]
     },
     "metadata": {},
     "output_type": "display_data"
    },
    {
     "data": {
      "application/vnd.jupyter.widget-view+json": {
       "model_id": "9cf0f3dd386f4f5584f7f937015aa4e7",
       "version_major": 2,
       "version_minor": 0
      },
      "text/plain": [
       "Validation: |          | 0/? [00:00<?, ?it/s]"
      ]
     },
     "metadata": {},
     "output_type": "display_data"
    },
    {
     "data": {
      "application/vnd.jupyter.widget-view+json": {
       "model_id": "acf47e68816849b18c4cad4b84b12832",
       "version_major": 2,
       "version_minor": 0
      },
      "text/plain": [
       "Validation: |          | 0/? [00:00<?, ?it/s]"
      ]
     },
     "metadata": {},
     "output_type": "display_data"
    },
    {
     "data": {
      "application/vnd.jupyter.widget-view+json": {
       "model_id": "902c78ac27af489999aa25b0aae036e1",
       "version_major": 2,
       "version_minor": 0
      },
      "text/plain": [
       "Validation: |          | 0/? [00:00<?, ?it/s]"
      ]
     },
     "metadata": {},
     "output_type": "display_data"
    },
    {
     "data": {
      "application/vnd.jupyter.widget-view+json": {
       "model_id": "ae6d2f5d176746f389f5ed4df2107178",
       "version_major": 2,
       "version_minor": 0
      },
      "text/plain": [
       "Validation: |          | 0/? [00:00<?, ?it/s]"
      ]
     },
     "metadata": {},
     "output_type": "display_data"
    },
    {
     "data": {
      "application/vnd.jupyter.widget-view+json": {
       "model_id": "576cc6330aba4a959742fe105d5cd821",
       "version_major": 2,
       "version_minor": 0
      },
      "text/plain": [
       "Validation: |          | 0/? [00:00<?, ?it/s]"
      ]
     },
     "metadata": {},
     "output_type": "display_data"
    },
    {
     "data": {
      "application/vnd.jupyter.widget-view+json": {
       "model_id": "e88d1c4f882045999a1498591a71a184",
       "version_major": 2,
       "version_minor": 0
      },
      "text/plain": [
       "Validation: |          | 0/? [00:00<?, ?it/s]"
      ]
     },
     "metadata": {},
     "output_type": "display_data"
    },
    {
     "data": {
      "application/vnd.jupyter.widget-view+json": {
       "model_id": "e8de2a1b986b497cb8b3d9aa362b9d49",
       "version_major": 2,
       "version_minor": 0
      },
      "text/plain": [
       "Validation: |          | 0/? [00:00<?, ?it/s]"
      ]
     },
     "metadata": {},
     "output_type": "display_data"
    },
    {
     "data": {
      "application/vnd.jupyter.widget-view+json": {
       "model_id": "b6e2ab1cc71c437e8a919b4d35e8278e",
       "version_major": 2,
       "version_minor": 0
      },
      "text/plain": [
       "Validation: |          | 0/? [00:00<?, ?it/s]"
      ]
     },
     "metadata": {},
     "output_type": "display_data"
    },
    {
     "data": {
      "application/vnd.jupyter.widget-view+json": {
       "model_id": "d8bfa93765a9465bb7cbb2d3b586560d",
       "version_major": 2,
       "version_minor": 0
      },
      "text/plain": [
       "Validation: |          | 0/? [00:00<?, ?it/s]"
      ]
     },
     "metadata": {},
     "output_type": "display_data"
    },
    {
     "data": {
      "application/vnd.jupyter.widget-view+json": {
       "model_id": "49d3e4e4232a49aba0c534c283f21c66",
       "version_major": 2,
       "version_minor": 0
      },
      "text/plain": [
       "Validation: |          | 0/? [00:00<?, ?it/s]"
      ]
     },
     "metadata": {},
     "output_type": "display_data"
    },
    {
     "data": {
      "application/vnd.jupyter.widget-view+json": {
       "model_id": "10ed806f523d48cb9f2a1717c23f8743",
       "version_major": 2,
       "version_minor": 0
      },
      "text/plain": [
       "Validation: |          | 0/? [00:00<?, ?it/s]"
      ]
     },
     "metadata": {},
     "output_type": "display_data"
    },
    {
     "data": {
      "application/vnd.jupyter.widget-view+json": {
       "model_id": "416237bf29604772b5884fa67b73f39a",
       "version_major": 2,
       "version_minor": 0
      },
      "text/plain": [
       "Validation: |          | 0/? [00:00<?, ?it/s]"
      ]
     },
     "metadata": {},
     "output_type": "display_data"
    },
    {
     "data": {
      "application/vnd.jupyter.widget-view+json": {
       "model_id": "9b569aea3e984783924416436b3c7419",
       "version_major": 2,
       "version_minor": 0
      },
      "text/plain": [
       "Validation: |          | 0/? [00:00<?, ?it/s]"
      ]
     },
     "metadata": {},
     "output_type": "display_data"
    },
    {
     "data": {
      "application/vnd.jupyter.widget-view+json": {
       "model_id": "114e801f31e84acdb052d07c9aca2722",
       "version_major": 2,
       "version_minor": 0
      },
      "text/plain": [
       "Validation: |          | 0/? [00:00<?, ?it/s]"
      ]
     },
     "metadata": {},
     "output_type": "display_data"
    },
    {
     "data": {
      "application/vnd.jupyter.widget-view+json": {
       "model_id": "55ae3528300c4bc1ab503f1e09023a59",
       "version_major": 2,
       "version_minor": 0
      },
      "text/plain": [
       "Validation: |          | 0/? [00:00<?, ?it/s]"
      ]
     },
     "metadata": {},
     "output_type": "display_data"
    },
    {
     "data": {
      "application/vnd.jupyter.widget-view+json": {
       "model_id": "f3da4c980fe64155a2b31cdd2cc30dc3",
       "version_major": 2,
       "version_minor": 0
      },
      "text/plain": [
       "Validation: |          | 0/? [00:00<?, ?it/s]"
      ]
     },
     "metadata": {},
     "output_type": "display_data"
    },
    {
     "data": {
      "application/vnd.jupyter.widget-view+json": {
       "model_id": "d5f536d8768841d58f3a75444fbea413",
       "version_major": 2,
       "version_minor": 0
      },
      "text/plain": [
       "Validation: |          | 0/? [00:00<?, ?it/s]"
      ]
     },
     "metadata": {},
     "output_type": "display_data"
    },
    {
     "data": {
      "application/vnd.jupyter.widget-view+json": {
       "model_id": "987798361c4847bab28ceef6c099cd31",
       "version_major": 2,
       "version_minor": 0
      },
      "text/plain": [
       "Validation: |          | 0/? [00:00<?, ?it/s]"
      ]
     },
     "metadata": {},
     "output_type": "display_data"
    },
    {
     "data": {
      "application/vnd.jupyter.widget-view+json": {
       "model_id": "cc8041cd70614cbfa84b77d54ddbd733",
       "version_major": 2,
       "version_minor": 0
      },
      "text/plain": [
       "Validation: |          | 0/? [00:00<?, ?it/s]"
      ]
     },
     "metadata": {},
     "output_type": "display_data"
    },
    {
     "data": {
      "application/vnd.jupyter.widget-view+json": {
       "model_id": "29249d07291e425ba48b197ced6f3edf",
       "version_major": 2,
       "version_minor": 0
      },
      "text/plain": [
       "Validation: |          | 0/? [00:00<?, ?it/s]"
      ]
     },
     "metadata": {},
     "output_type": "display_data"
    },
    {
     "data": {
      "application/vnd.jupyter.widget-view+json": {
       "model_id": "484a67e6df0e4fcb9647aa9efec709dd",
       "version_major": 2,
       "version_minor": 0
      },
      "text/plain": [
       "Validation: |          | 0/? [00:00<?, ?it/s]"
      ]
     },
     "metadata": {},
     "output_type": "display_data"
    },
    {
     "data": {
      "application/vnd.jupyter.widget-view+json": {
       "model_id": "b616bd5822eb4c55952d033895729125",
       "version_major": 2,
       "version_minor": 0
      },
      "text/plain": [
       "Validation: |          | 0/? [00:00<?, ?it/s]"
      ]
     },
     "metadata": {},
     "output_type": "display_data"
    },
    {
     "data": {
      "application/vnd.jupyter.widget-view+json": {
       "model_id": "56d17e1e3cc1476a84121c515ac2a769",
       "version_major": 2,
       "version_minor": 0
      },
      "text/plain": [
       "Validation: |          | 0/? [00:00<?, ?it/s]"
      ]
     },
     "metadata": {},
     "output_type": "display_data"
    },
    {
     "data": {
      "application/vnd.jupyter.widget-view+json": {
       "model_id": "d6884f8f8dbb4c379e7766cf7ae65567",
       "version_major": 2,
       "version_minor": 0
      },
      "text/plain": [
       "Validation: |          | 0/? [00:00<?, ?it/s]"
      ]
     },
     "metadata": {},
     "output_type": "display_data"
    },
    {
     "data": {
      "application/vnd.jupyter.widget-view+json": {
       "model_id": "e0c028e911994af984810540af517b4c",
       "version_major": 2,
       "version_minor": 0
      },
      "text/plain": [
       "Validation: |          | 0/? [00:00<?, ?it/s]"
      ]
     },
     "metadata": {},
     "output_type": "display_data"
    },
    {
     "data": {
      "application/vnd.jupyter.widget-view+json": {
       "model_id": "3e2d89c356c4443fb7349bc93502b36f",
       "version_major": 2,
       "version_minor": 0
      },
      "text/plain": [
       "Validation: |          | 0/? [00:00<?, ?it/s]"
      ]
     },
     "metadata": {},
     "output_type": "display_data"
    }
   ],
   "source": [
    "import torch\n",
    "import torch.nn as nn\n",
    "import pytorch_lightning as pl\n",
    "from torch.utils.data import DataLoader, random_split\n",
    "from torchvision import datasets, transforms\n",
    "from pytorch_lightning.callbacks import ModelCheckpoint, EarlyStopping\n",
    "import torch.nn.functional as F\n",
    "\n",
    "class Autoencoder(pl.LightningModule):\n",
    "    def __init__(self, lr=1e-3):\n",
    "        super(Autoencoder, self).__init__()\n",
    "        \n",
    "        self.encoder = nn.Sequential(\n",
    "            nn.Conv2d(in_channels=3, out_channels=32, kernel_size=3, stride=1, padding=1),\n",
    "            nn.ReLU(),\n",
    "            nn.MaxPool2d(kernel_size=2, stride=2, padding=0),\n",
    "\n",
    "            nn.Conv2d(in_channels=32, out_channels=64, kernel_size=3, stride=1, padding=1),\n",
    "            nn.ReLU(),\n",
    "            nn.MaxPool2d(kernel_size=2, stride=2, padding=0),\n",
    "\n",
    "            nn.Conv2d(in_channels=64, out_channels=128, kernel_size=3, stride=1, padding=1),\n",
    "            nn.ReLU(),\n",
    "            nn.MaxPool2d(kernel_size=2, stride=2, padding=0),\n",
    "\n",
    "            nn.Conv2d(in_channels=128, out_channels=256, kernel_size=3, stride=1, padding=1),\n",
    "            nn.ReLU(),\n",
    "            nn.MaxPool2d(kernel_size=2, stride=2, padding=0),\n",
    "\n",
    "            nn.Conv2d(in_channels=256, out_channels=512, kernel_size=3, stride=1, padding=1),\n",
    "            nn.ReLU(),\n",
    "            nn.MaxPool2d(kernel_size=2, stride=2, padding=0)\n",
    "        )\n",
    "\n",
    "        self.decoder = nn.Sequential(\n",
    "            nn.ConvTranspose2d(in_channels=512, out_channels=256, kernel_size=2, stride=2),\n",
    "            nn.ReLU(),\n",
    "\n",
    "            nn.ConvTranspose2d(in_channels=256, out_channels=128, kernel_size=2, stride=2),\n",
    "            nn.ReLU(),\n",
    "\n",
    "            nn.ConvTranspose2d(in_channels=128, out_channels=64, kernel_size=2, stride=2),\n",
    "            nn.ReLU(),\n",
    "\n",
    "            nn.ConvTranspose2d(in_channels=64, out_channels=32, kernel_size=2, stride=2),\n",
    "            nn.ReLU(),\n",
    "\n",
    "            nn.ConvTranspose2d(in_channels=32, out_channels=3, kernel_size=2, stride=2),\n",
    "            nn.ReLU()\n",
    "        )\n",
    "        \n",
    "        self.lr = lr\n",
    "\n",
    "    def forward(self, x):\n",
    "        x = self.encoder(x)\n",
    "        x = self.decoder(x)\n",
    "        return x\n",
    "\n",
    "    def training_step(self, batch, batch_idx):\n",
    "        x, _ = batch\n",
    "        x_hat = self(x)\n",
    "        loss = F.mse_loss(x_hat, x)\n",
    "        self.log('train_loss', loss)\n",
    "        return loss\n",
    "\n",
    "    def validation_step(self, batch, batch_idx):\n",
    "        x, _ = batch\n",
    "        x_hat = self(x)\n",
    "        val_loss = F.mse_loss(x_hat, x)\n",
    "        self.log('val_loss', val_loss, prog_bar=True)\n",
    "\n",
    "    def configure_optimizers(self):\n",
    "        optimizer = torch.optim.Adam(self.parameters(), lr=self.lr)\n",
    "        return optimizer\n",
    "\n",
    "# Setup dataset and dataloader\n",
    "transform = transforms.Compose([\n",
    "    transforms.Resize((128, 128)),\n",
    "    transforms.ToTensor(),\n",
    "])\n",
    "\n",
    "# Load dataset from folder data/raw\n",
    "dataset = datasets.ImageFolder(root='data/raw', transform=transform)\n",
    "train_size = int(0.8 * len(dataset))\n",
    "val_size = len(dataset) - train_size\n",
    "train_dataset, val_dataset = random_split(dataset, [train_size, val_size])\n",
    "\n",
    "train_loader = DataLoader(train_dataset, batch_size=32, shuffle=True)\n",
    "val_loader = DataLoader(val_dataset, batch_size=32)\n",
    "\n",
    "# Initialize the model\n",
    "torch.manual_seed(42)\n",
    "model = Autoencoder()\n",
    "\n",
    "# Setup PyTorch Lightning Trainer with checkpoints and early stopping\n",
    "checkpoint_callback = ModelCheckpoint(\n",
    "    monitor='val_loss',\n",
    "    dirpath='checkpoints',\n",
    "    filename='best-checkpoint',\n",
    "    save_top_k=1,\n",
    "    mode='min'\n",
    ")\n",
    "\n",
    "early_stopping_callback = EarlyStopping(\n",
    "    monitor='val_loss',\n",
    "    patience=5,\n",
    "    mode='min'\n",
    ")\n",
    "\n",
    "trainer = pl.Trainer(\n",
    "    max_epochs=-1,\n",
    "    callbacks=[checkpoint_callback, early_stopping_callback],\n",
    ")\n",
    "\n",
    "# Train the model\n",
    "trainer.fit(model, train_loader, val_loader)\n"
   ]
  },
  {
   "cell_type": "code",
   "execution_count": 27,
   "metadata": {},
   "outputs": [],
   "source": [
    "model.eval()\n",
    "X_train = model.encoder(torch.stack([x for x, _ in train_dataset]))\n",
    "y_train = torch.tensor([y for _, y in train_dataset])\n",
    "X_test = model.encoder(torch.stack([x for x, _ in val_dataset]))\n",
    "y_test = torch.tensor([y for _, y in val_dataset])\n",
    "\n",
    "X_train = [x.detach().numpy().flatten() for x in X_train]\n",
    "X_test = [x.detach().numpy().flatten() for x in X_test]\n",
    "y_train = y_train.detach().numpy()\n",
    "y_test = y_test.detach().numpy()"
   ]
  },
  {
   "cell_type": "code",
   "execution_count": 28,
   "metadata": {},
   "outputs": [],
   "source": [
    "from sklearn.svm import SVC\n",
    "from sklearn.model_selection import RandomizedSearchCV\n",
    "import numpy as np\n",
    "\n",
    "svc = SVC()\n",
    "params = {\n",
    "    'C': np.logspace(-3, 3, 7),\n",
    "    'gamma': np.logspace(-3, 3, 7),\n",
    "}\n",
    "\n",
    "rscv = RandomizedSearchCV(\n",
    "    svc,\n",
    "    params,\n",
    "    cv=10,\n",
    "    n_jobs=-1,\n",
    "    verbose=3,\n",
    "    random_state=42,\n",
    "    scoring='accuracy',\n",
    ")"
   ]
  },
  {
   "cell_type": "code",
   "execution_count": 29,
   "metadata": {},
   "outputs": [
    {
     "name": "stdout",
     "output_type": "stream",
     "text": [
      "Fitting 10 folds for each of 10 candidates, totalling 100 fits\n",
      "[CV 2/10] END .............C=0.01, gamma=1000.0;, score=0.304 total time=  42.6s\n",
      "[CV 3/10] END .............C=0.01, gamma=1000.0;, score=0.304 total time=  43.2s\n",
      "[CV 6/10] END .............C=0.01, gamma=1000.0;, score=0.306 total time=  41.6s\n",
      "[CV 4/10] END .............C=0.01, gamma=1000.0;, score=0.304 total time=  43.4s\n",
      "[CV 5/10] END .............C=0.01, gamma=1000.0;, score=0.306 total time=  42.9s\n",
      "[CV 1/10] END .............C=0.01, gamma=1000.0;, score=0.304 total time=  43.8s\n",
      "[CV 7/10] END .............C=0.01, gamma=1000.0;, score=0.306 total time=  42.1s\n",
      "[CV 8/10] END .............C=0.01, gamma=1000.0;, score=0.306 total time=  42.3s\n",
      "[CV 9/10] END .............C=0.01, gamma=1000.0;, score=0.306 total time=  40.8s\n",
      "[CV 10/10] END ............C=0.01, gamma=1000.0;, score=0.306 total time=  42.6s\n",
      "[CV 1/10] END ..............C=1000.0, gamma=1.0;, score=0.304 total time=  42.4s\n",
      "[CV 2/10] END ..............C=1000.0, gamma=1.0;, score=0.304 total time=  43.9s\n",
      "[CV 3/10] END ..............C=1000.0, gamma=1.0;, score=0.304 total time=  43.7s\n",
      "[CV 4/10] END ..............C=1000.0, gamma=1.0;, score=0.304 total time=  43.8s\n",
      "[CV 5/10] END ..............C=1000.0, gamma=1.0;, score=0.306 total time=  44.6s\n",
      "[CV 6/10] END ..............C=1000.0, gamma=1.0;, score=0.306 total time=  44.2s\n",
      "[CV 7/10] END ..............C=1000.0, gamma=1.0;, score=0.306 total time=  44.7s\n",
      "[CV 9/10] END ..............C=1000.0, gamma=1.0;, score=0.306 total time=  43.7s\n",
      "[CV 8/10] END ..............C=1000.0, gamma=1.0;, score=0.306 total time=  44.7s\n",
      "[CV 1/10] END ............C=1000.0, gamma=100.0;, score=0.304 total time=  42.9s\n",
      "[CV 10/10] END .............C=1000.0, gamma=1.0;, score=0.306 total time=  44.1s\n",
      "[CV 2/10] END ............C=1000.0, gamma=100.0;, score=0.304 total time=  43.4s\n",
      "[CV 3/10] END ............C=1000.0, gamma=100.0;, score=0.304 total time=  43.0s\n",
      "[CV 4/10] END ............C=1000.0, gamma=100.0;, score=0.304 total time=  43.1s\n",
      "[CV 5/10] END ............C=1000.0, gamma=100.0;, score=0.306 total time=  36.0s\n",
      "[CV 6/10] END ............C=1000.0, gamma=100.0;, score=0.306 total time=  37.2s\n",
      "[CV 7/10] END ............C=1000.0, gamma=100.0;, score=0.306 total time=  36.0s\n",
      "[CV 8/10] END ............C=1000.0, gamma=100.0;, score=0.306 total time=  35.6s\n",
      "[CV 9/10] END ............C=1000.0, gamma=100.0;, score=0.306 total time=  36.8s\n",
      "[CV 10/10] END ...........C=1000.0, gamma=100.0;, score=0.306 total time=  36.4s\n",
      "[CV 1/10] END ..............C=1000.0, gamma=0.1;, score=0.312 total time=  35.7s\n",
      "[CV 2/10] END ..............C=1000.0, gamma=0.1;, score=0.304 total time=  36.5s\n",
      "[CV 3/10] END ..............C=1000.0, gamma=0.1;, score=0.304 total time=  39.4s\n",
      "[CV 4/10] END ..............C=1000.0, gamma=0.1;, score=0.304 total time=  39.2s\n",
      "[CV 5/10] END ..............C=1000.0, gamma=0.1;, score=0.306 total time=  38.6s\n",
      "[CV 6/10] END ..............C=1000.0, gamma=0.1;, score=0.306 total time=  38.7s\n",
      "[CV 7/10] END ..............C=1000.0, gamma=0.1;, score=0.306 total time=  39.7s\n",
      "[CV 8/10] END ..............C=1000.0, gamma=0.1;, score=0.306 total time=  39.2s\n",
      "[CV 9/10] END ..............C=1000.0, gamma=0.1;, score=0.306 total time=  39.6s\n",
      "[CV 10/10] END .............C=1000.0, gamma=0.1;, score=0.315 total time=  39.4s\n",
      "[CV 1/10] END .................C=0.1, gamma=1.0;, score=0.304 total time=  41.1s\n",
      "[CV 2/10] END .................C=0.1, gamma=1.0;, score=0.304 total time=  41.8s\n",
      "[CV 3/10] END .................C=0.1, gamma=1.0;, score=0.304 total time=  42.2s\n",
      "[CV 4/10] END .................C=0.1, gamma=1.0;, score=0.304 total time=  43.4s\n",
      "[CV 5/10] END .................C=0.1, gamma=1.0;, score=0.306 total time=  42.9s\n",
      "[CV 6/10] END .................C=0.1, gamma=1.0;, score=0.306 total time=  42.6s\n",
      "[CV 7/10] END .................C=0.1, gamma=1.0;, score=0.306 total time=  42.6s\n",
      "[CV 8/10] END .................C=0.1, gamma=1.0;, score=0.306 total time=  42.2s\n",
      "[CV 9/10] END .................C=0.1, gamma=1.0;, score=0.306 total time=  37.7s\n",
      "[CV 10/10] END ................C=0.1, gamma=1.0;, score=0.306 total time=  37.3s\n",
      "[CV 1/10] END ..............C=1.0, gamma=1000.0;, score=0.304 total time=  37.7s\n",
      "[CV 2/10] END ..............C=1.0, gamma=1000.0;, score=0.304 total time=  37.3s\n",
      "[CV 4/10] END ..............C=1.0, gamma=1000.0;, score=0.304 total time=  37.4s\n",
      "[CV 3/10] END ..............C=1.0, gamma=1000.0;, score=0.304 total time=  38.2s\n",
      "[CV 5/10] END ..............C=1.0, gamma=1000.0;, score=0.306 total time=  37.0s\n",
      "[CV 6/10] END ..............C=1.0, gamma=1000.0;, score=0.306 total time=  37.3s\n",
      "[CV 7/10] END ..............C=1.0, gamma=1000.0;, score=0.306 total time=  38.4s\n",
      "[CV 8/10] END ..............C=1.0, gamma=1000.0;, score=0.306 total time=  39.8s\n",
      "[CV 9/10] END ..............C=1.0, gamma=1000.0;, score=0.306 total time=  38.8s\n",
      "[CV 10/10] END .............C=1.0, gamma=1000.0;, score=0.306 total time=  39.9s\n",
      "[CV 1/10] END ...............C=1.0, gamma=100.0;, score=0.304 total time=  39.3s\n",
      "[CV 2/10] END ...............C=1.0, gamma=100.0;, score=0.304 total time=  40.0s\n",
      "[CV 3/10] END ...............C=1.0, gamma=100.0;, score=0.304 total time=  40.1s\n",
      "[CV 4/10] END ...............C=1.0, gamma=100.0;, score=0.304 total time=  39.9s\n",
      "[CV 5/10] END ...............C=1.0, gamma=100.0;, score=0.306 total time=  36.8s\n",
      "[CV 6/10] END ...............C=1.0, gamma=100.0;, score=0.306 total time=  38.8s\n",
      "[CV 7/10] END ...............C=1.0, gamma=100.0;, score=0.306 total time=  37.7s\n",
      "[CV 8/10] END ...............C=1.0, gamma=100.0;, score=0.306 total time=  40.3s\n",
      "[CV 9/10] END ...............C=1.0, gamma=100.0;, score=0.306 total time=  40.2s\n",
      "[CV 10/10] END ..............C=1.0, gamma=100.0;, score=0.306 total time=  40.2s\n",
      "[CV 1/10] END ................C=1.0, gamma=10.0;, score=0.304 total time=  39.5s\n",
      "[CV 2/10] END ................C=1.0, gamma=10.0;, score=0.304 total time=  40.6s\n",
      "[CV 3/10] END ................C=1.0, gamma=10.0;, score=0.304 total time= 4.1min\n",
      "[CV 4/10] END ................C=1.0, gamma=10.0;, score=0.304 total time= 4.0min\n",
      "[CV 5/10] END ................C=1.0, gamma=10.0;, score=0.306 total time= 4.0min\n",
      "[CV 6/10] END ................C=1.0, gamma=10.0;, score=0.306 total time= 4.0min\n",
      "[CV 7/10] END ................C=1.0, gamma=10.0;, score=0.306 total time= 4.0min\n",
      "[CV 8/10] END ................C=1.0, gamma=10.0;, score=0.306 total time= 4.0min\n",
      "[CV 9/10] END ................C=1.0, gamma=10.0;, score=0.306 total time= 4.0min\n",
      "[CV 10/10] END ...............C=1.0, gamma=10.0;, score=0.306 total time= 4.1min\n",
      "[CV 1/10] END ................C=10.0, gamma=1.0;, score=0.304 total time=11.1min\n",
      "[CV 2/10] END ................C=10.0, gamma=1.0;, score=0.304 total time=11.1min\n",
      "[CV 3/10] END ................C=10.0, gamma=1.0;, score=0.304 total time=11.1min\n",
      "[CV 4/10] END ................C=10.0, gamma=1.0;, score=0.304 total time=11.0min\n",
      "[CV 5/10] END ................C=10.0, gamma=1.0;, score=0.306 total time=11.0min\n",
      "[CV 6/10] END ................C=10.0, gamma=1.0;, score=0.306 total time=11.0min\n",
      "[CV 7/10] END ................C=10.0, gamma=1.0;, score=0.306 total time=11.0min\n",
      "[CV 8/10] END ................C=10.0, gamma=1.0;, score=0.306 total time=11.0min\n",
      "[CV 9/10] END ................C=10.0, gamma=1.0;, score=0.306 total time=  20.4s\n",
      "[CV 10/10] END ...............C=10.0, gamma=1.0;, score=0.306 total time=  22.0s\n",
      "[CV 1/10] END ...............C=0.1, gamma=100.0;, score=0.304 total time=  23.5s\n",
      "[CV 2/10] END ...............C=0.1, gamma=100.0;, score=0.304 total time=  24.2s\n",
      "[CV 3/10] END ...............C=0.1, gamma=100.0;, score=0.304 total time=  23.5s\n",
      "[CV 5/10] END ...............C=0.1, gamma=100.0;, score=0.306 total time=  23.6s\n",
      "[CV 4/10] END ...............C=0.1, gamma=100.0;, score=0.304 total time=  24.0s\n",
      "[CV 6/10] END ...............C=0.1, gamma=100.0;, score=0.306 total time=  23.7s\n",
      "[CV 7/10] END ...............C=0.1, gamma=100.0;, score=0.306 total time=  20.4s\n",
      "[CV 8/10] END ...............C=0.1, gamma=100.0;, score=0.306 total time=  17.4s\n",
      "[CV 9/10] END ...............C=0.1, gamma=100.0;, score=0.306 total time=  15.6s\n",
      "[CV 10/10] END ..............C=0.1, gamma=100.0;, score=0.306 total time=  14.3s\n"
     ]
    },
    {
     "data": {
      "text/html": [
       "<style>#sk-container-id-2 {color: black;}#sk-container-id-2 pre{padding: 0;}#sk-container-id-2 div.sk-toggleable {background-color: white;}#sk-container-id-2 label.sk-toggleable__label {cursor: pointer;display: block;width: 100%;margin-bottom: 0;padding: 0.3em;box-sizing: border-box;text-align: center;}#sk-container-id-2 label.sk-toggleable__label-arrow:before {content: \"▸\";float: left;margin-right: 0.25em;color: #696969;}#sk-container-id-2 label.sk-toggleable__label-arrow:hover:before {color: black;}#sk-container-id-2 div.sk-estimator:hover label.sk-toggleable__label-arrow:before {color: black;}#sk-container-id-2 div.sk-toggleable__content {max-height: 0;max-width: 0;overflow: hidden;text-align: left;background-color: #f0f8ff;}#sk-container-id-2 div.sk-toggleable__content pre {margin: 0.2em;color: black;border-radius: 0.25em;background-color: #f0f8ff;}#sk-container-id-2 input.sk-toggleable__control:checked~div.sk-toggleable__content {max-height: 200px;max-width: 100%;overflow: auto;}#sk-container-id-2 input.sk-toggleable__control:checked~label.sk-toggleable__label-arrow:before {content: \"▾\";}#sk-container-id-2 div.sk-estimator input.sk-toggleable__control:checked~label.sk-toggleable__label {background-color: #d4ebff;}#sk-container-id-2 div.sk-label input.sk-toggleable__control:checked~label.sk-toggleable__label {background-color: #d4ebff;}#sk-container-id-2 input.sk-hidden--visually {border: 0;clip: rect(1px 1px 1px 1px);clip: rect(1px, 1px, 1px, 1px);height: 1px;margin: -1px;overflow: hidden;padding: 0;position: absolute;width: 1px;}#sk-container-id-2 div.sk-estimator {font-family: monospace;background-color: #f0f8ff;border: 1px dotted black;border-radius: 0.25em;box-sizing: border-box;margin-bottom: 0.5em;}#sk-container-id-2 div.sk-estimator:hover {background-color: #d4ebff;}#sk-container-id-2 div.sk-parallel-item::after {content: \"\";width: 100%;border-bottom: 1px solid gray;flex-grow: 1;}#sk-container-id-2 div.sk-label:hover label.sk-toggleable__label {background-color: #d4ebff;}#sk-container-id-2 div.sk-serial::before {content: \"\";position: absolute;border-left: 1px solid gray;box-sizing: border-box;top: 0;bottom: 0;left: 50%;z-index: 0;}#sk-container-id-2 div.sk-serial {display: flex;flex-direction: column;align-items: center;background-color: white;padding-right: 0.2em;padding-left: 0.2em;position: relative;}#sk-container-id-2 div.sk-item {position: relative;z-index: 1;}#sk-container-id-2 div.sk-parallel {display: flex;align-items: stretch;justify-content: center;background-color: white;position: relative;}#sk-container-id-2 div.sk-item::before, #sk-container-id-2 div.sk-parallel-item::before {content: \"\";position: absolute;border-left: 1px solid gray;box-sizing: border-box;top: 0;bottom: 0;left: 50%;z-index: -1;}#sk-container-id-2 div.sk-parallel-item {display: flex;flex-direction: column;z-index: 1;position: relative;background-color: white;}#sk-container-id-2 div.sk-parallel-item:first-child::after {align-self: flex-end;width: 50%;}#sk-container-id-2 div.sk-parallel-item:last-child::after {align-self: flex-start;width: 50%;}#sk-container-id-2 div.sk-parallel-item:only-child::after {width: 0;}#sk-container-id-2 div.sk-dashed-wrapped {border: 1px dashed gray;margin: 0 0.4em 0.5em 0.4em;box-sizing: border-box;padding-bottom: 0.4em;background-color: white;}#sk-container-id-2 div.sk-label label {font-family: monospace;font-weight: bold;display: inline-block;line-height: 1.2em;}#sk-container-id-2 div.sk-label-container {text-align: center;}#sk-container-id-2 div.sk-container {/* jupyter's `normalize.less` sets `[hidden] { display: none; }` but bootstrap.min.css set `[hidden] { display: none !important; }` so we also need the `!important` here to be able to override the default hidden behavior on the sphinx rendered scikit-learn.org. See: https://github.com/scikit-learn/scikit-learn/issues/21755 */display: inline-block !important;position: relative;}#sk-container-id-2 div.sk-text-repr-fallback {display: none;}</style><div id=\"sk-container-id-2\" class=\"sk-top-container\"><div class=\"sk-text-repr-fallback\"><pre>RandomizedSearchCV(cv=10, estimator=SVC(), n_jobs=-1,\n",
       "                   param_distributions={&#x27;C&#x27;: array([1.e-03, 1.e-02, 1.e-01, 1.e+00, 1.e+01, 1.e+02, 1.e+03]),\n",
       "                                        &#x27;gamma&#x27;: array([1.e-03, 1.e-02, 1.e-01, 1.e+00, 1.e+01, 1.e+02, 1.e+03])},\n",
       "                   random_state=42, scoring=&#x27;accuracy&#x27;, verbose=3)</pre><b>In a Jupyter environment, please rerun this cell to show the HTML representation or trust the notebook. <br />On GitHub, the HTML representation is unable to render, please try loading this page with nbviewer.org.</b></div><div class=\"sk-container\" hidden><div class=\"sk-item sk-dashed-wrapped\"><div class=\"sk-label-container\"><div class=\"sk-label sk-toggleable\"><input class=\"sk-toggleable__control sk-hidden--visually\" id=\"sk-estimator-id-4\" type=\"checkbox\" ><label for=\"sk-estimator-id-4\" class=\"sk-toggleable__label sk-toggleable__label-arrow\">RandomizedSearchCV</label><div class=\"sk-toggleable__content\"><pre>RandomizedSearchCV(cv=10, estimator=SVC(), n_jobs=-1,\n",
       "                   param_distributions={&#x27;C&#x27;: array([1.e-03, 1.e-02, 1.e-01, 1.e+00, 1.e+01, 1.e+02, 1.e+03]),\n",
       "                                        &#x27;gamma&#x27;: array([1.e-03, 1.e-02, 1.e-01, 1.e+00, 1.e+01, 1.e+02, 1.e+03])},\n",
       "                   random_state=42, scoring=&#x27;accuracy&#x27;, verbose=3)</pre></div></div></div><div class=\"sk-parallel\"><div class=\"sk-parallel-item\"><div class=\"sk-item\"><div class=\"sk-label-container\"><div class=\"sk-label sk-toggleable\"><input class=\"sk-toggleable__control sk-hidden--visually\" id=\"sk-estimator-id-5\" type=\"checkbox\" ><label for=\"sk-estimator-id-5\" class=\"sk-toggleable__label sk-toggleable__label-arrow\">estimator: SVC</label><div class=\"sk-toggleable__content\"><pre>SVC()</pre></div></div></div><div class=\"sk-serial\"><div class=\"sk-item\"><div class=\"sk-estimator sk-toggleable\"><input class=\"sk-toggleable__control sk-hidden--visually\" id=\"sk-estimator-id-6\" type=\"checkbox\" ><label for=\"sk-estimator-id-6\" class=\"sk-toggleable__label sk-toggleable__label-arrow\">SVC</label><div class=\"sk-toggleable__content\"><pre>SVC()</pre></div></div></div></div></div></div></div></div></div></div>"
      ],
      "text/plain": [
       "RandomizedSearchCV(cv=10, estimator=SVC(), n_jobs=-1,\n",
       "                   param_distributions={'C': array([1.e-03, 1.e-02, 1.e-01, 1.e+00, 1.e+01, 1.e+02, 1.e+03]),\n",
       "                                        'gamma': array([1.e-03, 1.e-02, 1.e-01, 1.e+00, 1.e+01, 1.e+02, 1.e+03])},\n",
       "                   random_state=42, scoring='accuracy', verbose=3)"
      ]
     },
     "execution_count": 29,
     "metadata": {},
     "output_type": "execute_result"
    }
   ],
   "source": [
    "rscv.fit(X_train, y_train)"
   ]
  },
  {
   "cell_type": "code",
   "execution_count": 24,
   "metadata": {},
   "outputs": [
    {
     "data": {
      "text/plain": [
       "0.7073935483870968"
      ]
     },
     "execution_count": 24,
     "metadata": {},
     "output_type": "execute_result"
    }
   ],
   "source": [
    "rscv.best_score_"
   ]
  }
 ],
 "metadata": {
  "kernelspec": {
   "display_name": "vision",
   "language": "python",
   "name": "python3"
  },
  "language_info": {
   "codemirror_mode": {
    "name": "ipython",
    "version": 3
   },
   "file_extension": ".py",
   "mimetype": "text/x-python",
   "name": "python",
   "nbconvert_exporter": "python",
   "pygments_lexer": "ipython3",
   "version": "3.9.19"
  }
 },
 "nbformat": 4,
 "nbformat_minor": 2
}

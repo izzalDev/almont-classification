{
 "cells": [
  {
   "cell_type": "code",
   "execution_count": 4,
   "metadata": {},
   "outputs": [],
   "source": [
    "# IMPORTS\n",
    "\n",
    "from torchvision.datasets import ImageFolder\n",
    "from torchvision import transforms\n",
    "from sklearn.svm import SVC\n",
    "from sklearn.model_selection import RandomizedSearchCV, train_test_split\n",
    "from sklearn.metrics import ConfusionMatrixDisplay, classification_report\n",
    "from skl2onnx import to_onnx\n",
    "from torch import nn\n",
    "import torch, onnx, io, dill\n",
    "import numpy as np\n",
    "import onnxruntime as ort\n",
    "import matplotlib.pyplot as plt"
   ]
  },
  {
   "cell_type": "code",
   "execution_count": null,
   "metadata": {},
   "outputs": [],
   "source": [
    "# CONFIGURATION\n",
    "\n",
    "INPUT_SHAPE = (128, 128)\n",
    "NUM_CHANNELS = 3\n",
    "TEST_SIZE = 0.15\n",
    "SEED = 430\n",
    "SESSION_NAME = '2_SVM'\n",
    "MODEL_NAME = 'svm'"
   ]
  },
  {
   "cell_type": "code",
   "execution_count": 3,
   "metadata": {},
   "outputs": [],
   "source": [
    "# DATA PREPARATION\n",
    "\n",
    "flatten = nn.Flatten()\n",
    "\n",
    "transform = transforms.Compose([\n",
    "    transforms.Resize(INPUT_SHAPE),\n",
    "    transforms.ToTensor(),\n",
    "])\n",
    "\n",
    "dataset = ImageFolder('data/raw', transform=transform)"
   ]
  },
  {
   "cell_type": "code",
   "execution_count": 4,
   "metadata": {},
   "outputs": [],
   "source": [
    "# DATA SPLIT\n",
    "\n",
    "ds_idx = list(range(len(dataset)))\n",
    "train_idx, test_idx = train_test_split(ds_idx, test_size=TEST_SIZE, shuffle=True, stratify=dataset.targets, random_state=SEED)"
   ]
  },
  {
   "cell_type": "code",
   "execution_count": 5,
   "metadata": {},
   "outputs": [],
   "source": [
    "# LOAD DATA\n",
    "\n",
    "X_train = torch.stack([dataset[i][0] for i in train_idx])\n",
    "y_train = [dataset[i][1] for i in train_idx]\n",
    "\n",
    "X_test = torch.stack([dataset[i][0] for i in test_idx])\n",
    "y_test = [dataset[i][1] for i in test_idx]\n",
    "\n",
    "X_train_flat = flatten(X_train)\n",
    "X_test_flat = flatten(X_test)"
   ]
  },
  {
   "cell_type": "code",
   "execution_count": 6,
   "metadata": {},
   "outputs": [],
   "source": [
    "# PREPARE MODEL\n",
    "\n",
    "svc = SVC(probability=True)"
   ]
  },
  {
   "cell_type": "code",
   "execution_count": 7,
   "metadata": {},
   "outputs": [],
   "source": [
    "# HYPERPARAMETER TUNING\n",
    "\n",
    "param_dist = {\n",
    "    'C': np.logspace(-3, 3, 7),\n",
    "    'gamma': np.logspace(-3, 3, 7)\n",
    "}\n",
    "\n",
    "rscv = RandomizedSearchCV(svc, param_dist, cv=10, n_jobs=-1, random_state=SEED, scoring='accuracy', verbose=3)"
   ]
  },
  {
   "cell_type": "code",
   "execution_count": 8,
   "metadata": {},
   "outputs": [
    {
     "name": "stdout",
     "output_type": "stream",
     "text": [
      "Fitting 10 folds for each of 10 candidates, totalling 100 fits\n",
      "[CV 2/10] END ...............C=10.0, gamma=0.01;, score=0.414 total time=30.2min\n",
      "[CV 3/10] END ...............C=10.0, gamma=0.01;, score=0.455 total time=30.8min\n",
      "[CV 4/10] END ...............C=10.0, gamma=0.01;, score=0.417 total time=32.3min\n",
      "[CV 1/10] END ...............C=10.0, gamma=0.01;, score=0.429 total time=32.5min\n",
      "[CV 5/10] END ...............C=10.0, gamma=0.01;, score=0.432 total time=32.5min\n",
      "[CV 6/10] END ...............C=10.0, gamma=0.01;, score=0.432 total time=32.6min\n",
      "[CV 7/10] END ...............C=10.0, gamma=0.01;, score=0.424 total time=33.2min\n",
      "[CV 8/10] END ...............C=10.0, gamma=0.01;, score=0.379 total time=33.6min\n",
      "[CV 9/10] END ...............C=10.0, gamma=0.01;, score=0.439 total time=30.4min\n",
      "[CV 1/10] END ..............C=0.01, gamma=0.001;, score=0.301 total time=28.3min\n",
      "[CV 10/10] END ..............C=10.0, gamma=0.01;, score=0.402 total time=30.1min\n",
      "[CV 2/10] END ..............C=0.01, gamma=0.001;, score=0.293 total time=30.8min\n",
      "[CV 3/10] END ..............C=0.01, gamma=0.001;, score=0.295 total time=31.5min\n",
      "[CV 4/10] END ..............C=0.01, gamma=0.001;, score=0.295 total time=31.8min\n",
      "[CV 6/10] END ..............C=0.01, gamma=0.001;, score=0.295 total time=30.6min\n",
      "[CV 5/10] END ..............C=0.01, gamma=0.001;, score=0.295 total time=31.2min\n",
      "[CV 7/10] END ..............C=0.01, gamma=0.001;, score=0.303 total time=24.4min\n",
      "[CV 8/10] END ..............C=0.01, gamma=0.001;, score=0.303 total time=24.9min\n",
      "[CV 9/10] END ..............C=0.01, gamma=0.001;, score=0.303 total time=24.8min\n",
      "[CV 10/10] END .............C=0.01, gamma=0.001;, score=0.303 total time=24.1min\n",
      "[CV 1/10] END ..............C=100.0, gamma=0.01;, score=0.429 total time=25.4min\n",
      "[CV 3/10] END ..............C=100.0, gamma=0.01;, score=0.455 total time=31.0min\n",
      "[CV 2/10] END ..............C=100.0, gamma=0.01;, score=0.414 total time=31.2min\n",
      "[CV 4/10] END ..............C=100.0, gamma=0.01;, score=0.417 total time=30.9min\n",
      "[CV 5/10] END ..............C=100.0, gamma=0.01;, score=0.432 total time=27.4min\n",
      "[CV 6/10] END ..............C=100.0, gamma=0.01;, score=0.432 total time=29.8min\n",
      "[CV 7/10] END ..............C=100.0, gamma=0.01;, score=0.424 total time=30.9min\n",
      "[CV 8/10] END ..............C=100.0, gamma=0.01;, score=0.379 total time=30.5min\n",
      "[CV 9/10] END ..............C=100.0, gamma=0.01;, score=0.439 total time=28.4min\n",
      "[CV 1/10] END ...............C=100.0, gamma=1.0;, score=0.308 total time=25.2min\n",
      "[CV 2/10] END ...............C=100.0, gamma=1.0;, score=0.293 total time=26.6min\n",
      "[CV 10/10] END .............C=100.0, gamma=0.01;, score=0.402 total time=26.8min\n",
      "[CV 3/10] END ...............C=100.0, gamma=1.0;, score=0.295 total time=29.5min\n",
      "[CV 4/10] END ...............C=100.0, gamma=1.0;, score=0.295 total time=28.2min\n",
      "[CV 5/10] END ...............C=100.0, gamma=1.0;, score=0.295 total time=29.5min\n",
      "[CV 6/10] END ...............C=100.0, gamma=1.0;, score=0.295 total time=28.7min\n",
      "[CV 7/10] END ...............C=100.0, gamma=1.0;, score=0.303 total time=28.6min\n",
      "[CV 8/10] END ...............C=100.0, gamma=1.0;, score=0.303 total time=26.6min\n",
      "[CV 10/10] END ..............C=100.0, gamma=1.0;, score=0.311 total time=27.4min\n",
      "[CV 9/10] END ...............C=100.0, gamma=1.0;, score=0.303 total time=27.7min\n",
      "[CV 1/10] END ..............C=1000.0, gamma=0.1;, score=0.308 total time=19.8min\n",
      "[CV 2/10] END ..............C=1000.0, gamma=0.1;, score=0.293 total time=20.4min\n",
      "[CV 3/10] END ..............C=1000.0, gamma=0.1;, score=0.295 total time=23.6min\n",
      "[CV 4/10] END ..............C=1000.0, gamma=0.1;, score=0.295 total time=25.4min\n",
      "[CV 5/10] END ..............C=1000.0, gamma=0.1;, score=0.295 total time=25.3min\n",
      "[CV 6/10] END ..............C=1000.0, gamma=0.1;, score=0.295 total time=24.6min\n",
      "[CV 8/10] END ..............C=1000.0, gamma=0.1;, score=0.303 total time=24.7min\n",
      "[CV 7/10] END ..............C=1000.0, gamma=0.1;, score=0.303 total time=24.9min\n",
      "[CV 9/10] END ..............C=1000.0, gamma=0.1;, score=0.303 total time=33.5min\n",
      "[CV 10/10] END .............C=1000.0, gamma=0.1;, score=0.311 total time=35.2min\n",
      "[CV 1/10] END ................C=0.01, gamma=1.0;, score=0.301 total time=34.0min\n",
      "[CV 3/10] END ................C=0.01, gamma=1.0;, score=0.295 total time=36.1min\n",
      "[CV 2/10] END ................C=0.01, gamma=1.0;, score=0.293 total time=37.0min\n",
      "[CV 4/10] END ................C=0.01, gamma=1.0;, score=0.295 total time=36.9min\n",
      "[CV 5/10] END ................C=0.01, gamma=1.0;, score=0.295 total time=37.5min\n",
      "[CV 6/10] END ................C=0.01, gamma=1.0;, score=0.295 total time=38.3min\n",
      "[CV 7/10] END ................C=0.01, gamma=1.0;, score=0.303 total time=36.8min\n",
      "[CV 8/10] END ................C=0.01, gamma=1.0;, score=0.303 total time=36.1min\n",
      "[CV 9/10] END ................C=0.01, gamma=1.0;, score=0.303 total time=35.1min\n",
      "[CV 10/10] END ...............C=0.01, gamma=1.0;, score=0.303 total time=35.4min\n",
      "[CV 1/10] END ................C=1.0, gamma=10.0;, score=0.308 total time=37.2min\n",
      "[CV 2/10] END ................C=1.0, gamma=10.0;, score=0.293 total time=36.9min\n",
      "[CV 3/10] END ................C=1.0, gamma=10.0;, score=0.295 total time=35.9min\n",
      "[CV 4/10] END ................C=1.0, gamma=10.0;, score=0.295 total time=35.8min\n",
      "[CV 5/10] END ................C=1.0, gamma=10.0;, score=0.295 total time=32.8min\n",
      "[CV 6/10] END ................C=1.0, gamma=10.0;, score=0.295 total time=31.8min\n",
      "[CV 7/10] END ................C=1.0, gamma=10.0;, score=0.303 total time=29.8min\n",
      "[CV 8/10] END ................C=1.0, gamma=10.0;, score=0.303 total time=33.0min\n",
      "[CV 9/10] END ................C=1.0, gamma=10.0;, score=0.303 total time=35.0min\n",
      "[CV 10/10] END ...............C=1.0, gamma=10.0;, score=0.311 total time=35.2min\n",
      "[CV 1/10] END .............C=0.001, gamma=100.0;, score=0.301 total time=35.3min\n",
      "[CV 2/10] END .............C=0.001, gamma=100.0;, score=0.293 total time=35.0min\n",
      "[CV 3/10] END .............C=0.001, gamma=100.0;, score=0.295 total time=34.6min\n",
      "[CV 4/10] END .............C=0.001, gamma=100.0;, score=0.295 total time=34.7min\n",
      "[CV 5/10] END .............C=0.001, gamma=100.0;, score=0.295 total time=36.0min\n",
      "[CV 6/10] END .............C=0.001, gamma=100.0;, score=0.295 total time=38.5min\n",
      "[CV 7/10] END .............C=0.001, gamma=100.0;, score=0.303 total time=37.3min\n",
      "[CV 8/10] END .............C=0.001, gamma=100.0;, score=0.303 total time=39.7min\n",
      "[CV 9/10] END .............C=0.001, gamma=100.0;, score=0.303 total time=39.7min\n",
      "[CV 10/10] END ............C=0.001, gamma=100.0;, score=0.303 total time=39.1min\n",
      "[CV 1/10] END .................C=0.1, gamma=0.1;, score=0.301 total time=31.5min\n",
      "[CV 2/10] END .................C=0.1, gamma=0.1;, score=0.293 total time=31.3min\n",
      "[CV 3/10] END .................C=0.1, gamma=0.1;, score=0.295 total time=30.6min\n",
      "[CV 4/10] END .................C=0.1, gamma=0.1;, score=0.295 total time=28.8min\n",
      "[CV 5/10] END .................C=0.1, gamma=0.1;, score=0.295 total time=27.2min\n",
      "[CV 6/10] END .................C=0.1, gamma=0.1;, score=0.295 total time=25.8min\n",
      "[CV 7/10] END .................C=0.1, gamma=0.1;, score=0.303 total time=25.0min\n",
      "[CV 8/10] END .................C=0.1, gamma=0.1;, score=0.303 total time=24.9min\n",
      "[CV 9/10] END .................C=0.1, gamma=0.1;, score=0.303 total time=22.1min\n",
      "[CV 10/10] END ................C=0.1, gamma=0.1;, score=0.303 total time=22.2min\n",
      "[CV 1/10] END ............C=100.0, gamma=1000.0;, score=0.308 total time=21.7min\n",
      "[CV 2/10] END ............C=100.0, gamma=1000.0;, score=0.293 total time=20.2min\n",
      "[CV 3/10] END ............C=100.0, gamma=1000.0;, score=0.295 total time=20.0min\n",
      "[CV 4/10] END ............C=100.0, gamma=1000.0;, score=0.295 total time=19.3min\n",
      "[CV 5/10] END ............C=100.0, gamma=1000.0;, score=0.295 total time=19.1min\n",
      "[CV 6/10] END ............C=100.0, gamma=1000.0;, score=0.295 total time=19.1min\n",
      "[CV 7/10] END ............C=100.0, gamma=1000.0;, score=0.303 total time=17.1min\n",
      "[CV 8/10] END ............C=100.0, gamma=1000.0;, score=0.303 total time=15.5min\n",
      "[CV 9/10] END ............C=100.0, gamma=1000.0;, score=0.303 total time=13.9min\n",
      "[CV 10/10] END ...........C=100.0, gamma=1000.0;, score=0.311 total time= 7.9min\n"
     ]
    },
    {
     "data": {
      "text/html": [
       "<style>#sk-container-id-1 {color: black;}#sk-container-id-1 pre{padding: 0;}#sk-container-id-1 div.sk-toggleable {background-color: white;}#sk-container-id-1 label.sk-toggleable__label {cursor: pointer;display: block;width: 100%;margin-bottom: 0;padding: 0.3em;box-sizing: border-box;text-align: center;}#sk-container-id-1 label.sk-toggleable__label-arrow:before {content: \"▸\";float: left;margin-right: 0.25em;color: #696969;}#sk-container-id-1 label.sk-toggleable__label-arrow:hover:before {color: black;}#sk-container-id-1 div.sk-estimator:hover label.sk-toggleable__label-arrow:before {color: black;}#sk-container-id-1 div.sk-toggleable__content {max-height: 0;max-width: 0;overflow: hidden;text-align: left;background-color: #f0f8ff;}#sk-container-id-1 div.sk-toggleable__content pre {margin: 0.2em;color: black;border-radius: 0.25em;background-color: #f0f8ff;}#sk-container-id-1 input.sk-toggleable__control:checked~div.sk-toggleable__content {max-height: 200px;max-width: 100%;overflow: auto;}#sk-container-id-1 input.sk-toggleable__control:checked~label.sk-toggleable__label-arrow:before {content: \"▾\";}#sk-container-id-1 div.sk-estimator input.sk-toggleable__control:checked~label.sk-toggleable__label {background-color: #d4ebff;}#sk-container-id-1 div.sk-label input.sk-toggleable__control:checked~label.sk-toggleable__label {background-color: #d4ebff;}#sk-container-id-1 input.sk-hidden--visually {border: 0;clip: rect(1px 1px 1px 1px);clip: rect(1px, 1px, 1px, 1px);height: 1px;margin: -1px;overflow: hidden;padding: 0;position: absolute;width: 1px;}#sk-container-id-1 div.sk-estimator {font-family: monospace;background-color: #f0f8ff;border: 1px dotted black;border-radius: 0.25em;box-sizing: border-box;margin-bottom: 0.5em;}#sk-container-id-1 div.sk-estimator:hover {background-color: #d4ebff;}#sk-container-id-1 div.sk-parallel-item::after {content: \"\";width: 100%;border-bottom: 1px solid gray;flex-grow: 1;}#sk-container-id-1 div.sk-label:hover label.sk-toggleable__label {background-color: #d4ebff;}#sk-container-id-1 div.sk-serial::before {content: \"\";position: absolute;border-left: 1px solid gray;box-sizing: border-box;top: 0;bottom: 0;left: 50%;z-index: 0;}#sk-container-id-1 div.sk-serial {display: flex;flex-direction: column;align-items: center;background-color: white;padding-right: 0.2em;padding-left: 0.2em;position: relative;}#sk-container-id-1 div.sk-item {position: relative;z-index: 1;}#sk-container-id-1 div.sk-parallel {display: flex;align-items: stretch;justify-content: center;background-color: white;position: relative;}#sk-container-id-1 div.sk-item::before, #sk-container-id-1 div.sk-parallel-item::before {content: \"\";position: absolute;border-left: 1px solid gray;box-sizing: border-box;top: 0;bottom: 0;left: 50%;z-index: -1;}#sk-container-id-1 div.sk-parallel-item {display: flex;flex-direction: column;z-index: 1;position: relative;background-color: white;}#sk-container-id-1 div.sk-parallel-item:first-child::after {align-self: flex-end;width: 50%;}#sk-container-id-1 div.sk-parallel-item:last-child::after {align-self: flex-start;width: 50%;}#sk-container-id-1 div.sk-parallel-item:only-child::after {width: 0;}#sk-container-id-1 div.sk-dashed-wrapped {border: 1px dashed gray;margin: 0 0.4em 0.5em 0.4em;box-sizing: border-box;padding-bottom: 0.4em;background-color: white;}#sk-container-id-1 div.sk-label label {font-family: monospace;font-weight: bold;display: inline-block;line-height: 1.2em;}#sk-container-id-1 div.sk-label-container {text-align: center;}#sk-container-id-1 div.sk-container {/* jupyter's `normalize.less` sets `[hidden] { display: none; }` but bootstrap.min.css set `[hidden] { display: none !important; }` so we also need the `!important` here to be able to override the default hidden behavior on the sphinx rendered scikit-learn.org. See: https://github.com/scikit-learn/scikit-learn/issues/21755 */display: inline-block !important;position: relative;}#sk-container-id-1 div.sk-text-repr-fallback {display: none;}</style><div id=\"sk-container-id-1\" class=\"sk-top-container\"><div class=\"sk-text-repr-fallback\"><pre>RandomizedSearchCV(cv=10, estimator=SVC(probability=True), n_jobs=-1,\n",
       "                   param_distributions={&#x27;C&#x27;: array([1.e-03, 1.e-02, 1.e-01, 1.e+00, 1.e+01, 1.e+02, 1.e+03]),\n",
       "                                        &#x27;gamma&#x27;: array([1.e-03, 1.e-02, 1.e-01, 1.e+00, 1.e+01, 1.e+02, 1.e+03])},\n",
       "                   random_state=430, scoring=&#x27;accuracy&#x27;, verbose=3)</pre><b>In a Jupyter environment, please rerun this cell to show the HTML representation or trust the notebook. <br />On GitHub, the HTML representation is unable to render, please try loading this page with nbviewer.org.</b></div><div class=\"sk-container\" hidden><div class=\"sk-item sk-dashed-wrapped\"><div class=\"sk-label-container\"><div class=\"sk-label sk-toggleable\"><input class=\"sk-toggleable__control sk-hidden--visually\" id=\"sk-estimator-id-1\" type=\"checkbox\" ><label for=\"sk-estimator-id-1\" class=\"sk-toggleable__label sk-toggleable__label-arrow\">RandomizedSearchCV</label><div class=\"sk-toggleable__content\"><pre>RandomizedSearchCV(cv=10, estimator=SVC(probability=True), n_jobs=-1,\n",
       "                   param_distributions={&#x27;C&#x27;: array([1.e-03, 1.e-02, 1.e-01, 1.e+00, 1.e+01, 1.e+02, 1.e+03]),\n",
       "                                        &#x27;gamma&#x27;: array([1.e-03, 1.e-02, 1.e-01, 1.e+00, 1.e+01, 1.e+02, 1.e+03])},\n",
       "                   random_state=430, scoring=&#x27;accuracy&#x27;, verbose=3)</pre></div></div></div><div class=\"sk-parallel\"><div class=\"sk-parallel-item\"><div class=\"sk-item\"><div class=\"sk-label-container\"><div class=\"sk-label sk-toggleable\"><input class=\"sk-toggleable__control sk-hidden--visually\" id=\"sk-estimator-id-2\" type=\"checkbox\" ><label for=\"sk-estimator-id-2\" class=\"sk-toggleable__label sk-toggleable__label-arrow\">estimator: SVC</label><div class=\"sk-toggleable__content\"><pre>SVC(probability=True)</pre></div></div></div><div class=\"sk-serial\"><div class=\"sk-item\"><div class=\"sk-estimator sk-toggleable\"><input class=\"sk-toggleable__control sk-hidden--visually\" id=\"sk-estimator-id-3\" type=\"checkbox\" ><label for=\"sk-estimator-id-3\" class=\"sk-toggleable__label sk-toggleable__label-arrow\">SVC</label><div class=\"sk-toggleable__content\"><pre>SVC(probability=True)</pre></div></div></div></div></div></div></div></div></div></div>"
      ],
      "text/plain": [
       "RandomizedSearchCV(cv=10, estimator=SVC(probability=True), n_jobs=-1,\n",
       "                   param_distributions={'C': array([1.e-03, 1.e-02, 1.e-01, 1.e+00, 1.e+01, 1.e+02, 1.e+03]),\n",
       "                                        'gamma': array([1.e-03, 1.e-02, 1.e-01, 1.e+00, 1.e+01, 1.e+02, 1.e+03])},\n",
       "                   random_state=430, scoring='accuracy', verbose=3)"
      ]
     },
     "execution_count": 8,
     "metadata": {},
     "output_type": "execute_result"
    }
   ],
   "source": [
    "# TRAINING\n",
    "\n",
    "rscv.fit(X_train_flat, y_train)"
   ]
  },
  {
   "cell_type": "code",
   "execution_count": 5,
   "metadata": {},
   "outputs": [
    {
     "data": {
      "text/plain": [
       "Text(0.5, 1.0, 'SVM')"
      ]
     },
     "execution_count": 5,
     "metadata": {},
     "output_type": "execute_result"
    },
    {
     "data": {
      "image/png": "[encoded data removed]",
      "text/plain": [
       "<Figure size 640x480 with 2 Axes>"
      ]
     },
     "metadata": {},
     "output_type": "display_data"
    }
   ],
   "source": [
    "# CONFUSION MATRIX\n",
    "\n",
    "ConfusionMatrixDisplay.from_estimator(rscv.best_estimator_, X_test_flat, y_test)\n",
    "plt.title('SVM')"
   ]
  },
  {
   "cell_type": "code",
   "execution_count": 10,
   "metadata": {},
   "outputs": [
    {
     "name": "stdout",
     "output_type": "stream",
     "text": [
      "              precision    recall  f1-score   support\n",
      "\n",
      "          AK       0.00      0.00      0.00        60\n",
      "   KAPADOKYA       0.37      1.00      0.54        70\n",
      "       NURLU       1.00      0.41      0.58        46\n",
      "        SIRA       1.00      0.41      0.59        58\n",
      "\n",
      "    accuracy                           0.48       234\n",
      "   macro avg       0.59      0.46      0.43       234\n",
      "weighted avg       0.55      0.48      0.42       234\n",
      "\n"
     ]
    },
    {
     "name": "stderr",
     "output_type": "stream",
     "text": [
      "/opt/homebrew/Caskroom/miniconda/base/envs/vision/lib/python3.9/site-packages/sklearn/metrics/_classification.py:1469: UndefinedMetricWarning: Precision and F-score are ill-defined and being set to 0.0 in labels with no predicted samples. Use `zero_division` parameter to control this behavior.\n",
      "  _warn_prf(average, modifier, msg_start, len(result))\n",
      "/opt/homebrew/Caskroom/miniconda/base/envs/vision/lib/python3.9/site-packages/sklearn/metrics/_classification.py:1469: UndefinedMetricWarning: Precision and F-score are ill-defined and being set to 0.0 in labels with no predicted samples. Use `zero_division` parameter to control this behavior.\n",
      "  _warn_prf(average, modifier, msg_start, len(result))\n",
      "/opt/homebrew/Caskroom/miniconda/base/envs/vision/lib/python3.9/site-packages/sklearn/metrics/_classification.py:1469: UndefinedMetricWarning: Precision and F-score are ill-defined and being set to 0.0 in labels with no predicted samples. Use `zero_division` parameter to control this behavior.\n",
      "  _warn_prf(average, modifier, msg_start, len(result))\n"
     ]
    }
   ],
   "source": [
    "# CLASSIFICATION REPORT\n",
    "\n",
    "y_pred = rscv.best_estimator_.predict(X_test_flat)\n",
    "report = classification_report(y_test, y_pred, target_names=dataset.classes)\n",
    "print(report)"
   ]
  },
  {
   "cell_type": "code",
   "execution_count": 11,
   "metadata": {},
   "outputs": [],
   "source": [
    "# CONVERT TO ONNX\n",
    "\n",
    "classifier = to_onnx(rscv.best_estimator_, np.array(X_test[:1]).astype(np.float32), options={\"zipmap\": False})\n",
    "\n",
    "preprocessor = io.BytesIO()\n",
    "torch.onnx.export(\n",
    "    flatten, \n",
    "    torch.rand(1, 3, INPUT_SHAPE[0], INPUT_SHAPE[1]), \n",
    "    preprocessor, input_names=['input'], output_names=['output'],\n",
    "    dynamic_axes={'input': {0: '?'}}\n",
    ")\n",
    "preprocessor = onnx.load_model_from_string(preprocessor.getvalue())\n",
    "\n",
    "graph = onnx.compose.merge_graphs(preprocessor.graph, classifier.graph, io_map=[('output', 'X')])\n",
    "model = onnx.helper.make_model(graph)"
   ]
  },
  {
   "cell_type": "code",
   "execution_count": 12,
   "metadata": {},
   "outputs": [],
   "source": [
    "# SAVE MODEL\n",
    "\n",
    "with open(f'models/{MODEL_NAME}.onnx', 'wb') as f:\n",
    "    f.write(model.SerializeToString())"
   ]
  },
  {
   "cell_type": "code",
   "execution_count": 13,
   "metadata": {},
   "outputs": [
    {
     "name": "stdout",
     "output_type": "stream",
     "text": [
      "SUCCESS\n"
     ]
    }
   ],
   "source": [
    "# SANITY CHECK\n",
    "\n",
    "sess = ort.InferenceSession(f'models/{MODEL_NAME}.onnx')\n",
    "output = sess.run(['label', 'probabilities'], {'input': X_test.numpy()})\n",
    "\n",
    "if (output[0] == y_pred).all():\n",
    "    print('SUCCESS')\n",
    "else:\n",
    "    print('FAILURE')"
   ]
  },
  {
   "cell_type": "code",
   "execution_count": 2,
   "metadata": {},
   "outputs": [],
   "source": [
    "# SAVE NOTEBOOK SESSION\n",
    "\n",
    "for var in ['sess']:\n",
    "    globals().pop(var, None)\n",
    "dill.dump_session(f'sessions/{SESSION_NAME}.dill')"
   ]
  },
  {
   "cell_type": "code",
   "execution_count": 1,
   "metadata": {},
   "outputs": [],
   "source": [
    "# LOAD NOTEBOOK SESSION\n",
    "\n",
    "# import dill\n",
    "# dill.load_session('sessions/2_SVM.dill')"
   ]
  }
 ],
 "metadata": {
  "kernelspec": {
   "display_name": "vision",
   "language": "python",
   "name": "python3"
  },
  "language_info": {
   "codemirror_mode": {
    "name": "ipython",
    "version": 3
   },
   "file_extension": ".py",
   "mimetype": "text/x-python",
   "name": "python",
   "nbconvert_exporter": "python",
   "pygments_lexer": "ipython3",
   "version": "3.9.19"
  }
 },
 "nbformat": 4,
 "nbformat_minor": 2
}
